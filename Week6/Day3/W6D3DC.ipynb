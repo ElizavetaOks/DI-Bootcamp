{
  "nbformat": 4,
  "nbformat_minor": 0,
  "metadata": {
    "colab": {
      "provenance": []
    },
    "kernelspec": {
      "name": "python3",
      "display_name": "Python 3"
    },
    "language_info": {
      "name": "python"
    }
  },
  "cells": [
    {
      "cell_type": "code",
      "execution_count": 5,
      "metadata": {
        "id": "lW_NIenvKEUA"
      },
      "outputs": [],
      "source": [
        "# Import necessary libraries\n",
        "import pandas as pd\n",
        "import numpy as np\n",
        "import matplotlib.pyplot as plt\n",
        "import seaborn as sns\n",
        "from scipy.stats import *"
      ]
    },
    {
      "cell_type": "markdown",
      "source": [
        "## Daily Challenge : Analysis Of Airplane Crashes And Fatalities"
      ],
      "metadata": {
        "id": "VaAcfzx_KF-Q"
      }
    },
    {
      "cell_type": "markdown",
      "source": [
        "## 1. Data Import and Cleaning:\n",
        "\n",
        "Import the dataset using Pandas.\n",
        "\n",
        "Clean and preprocess the data, addressing missing values and categorizing data as needed.\n",
        "Convert dates and other relevant fields to appropriate formats."
      ],
      "metadata": {
        "id": "xhGeD-CjLCT6"
      }
    },
    {
      "cell_type": "code",
      "source": [
        "df = pd.read_csv(r'/content/Airplane_Crashes_and_Fatalities_Since_1908_t0_2023.csv', encoding='latin1')\n",
        "df.head()"
      ],
      "metadata": {
        "colab": {
          "base_uri": "https://localhost:8080/",
          "height": 484
        },
        "id": "9pwlFfxKKHNt",
        "outputId": "6a937a75-e375-45e2-e39c-db608b0b55d6"
      },
      "execution_count": 8,
      "outputs": [
        {
          "output_type": "execute_result",
          "data": {
            "text/plain": [
              "        Date   Time                            Location  \\\n",
              "0  9/17/1908  17:18                 Fort Myer, Virginia   \n",
              "1   9/7/1909    NaN             Juvisy-sur-Orge, France   \n",
              "2  7/12/1912   6:30           Atlantic City, New Jersey   \n",
              "3   8/6/1913    NaN  Victoria, British Columbia, Canada   \n",
              "4   9/9/1913  18:30                  Over the North Sea   \n",
              "\n",
              "                 Operator Flight #          Route                 AC Type  \\\n",
              "0    Military - U.S. Army      NaN  Demonstration        Wright Flyer III   \n",
              "1                     NaN      NaN       Air show          Wright Byplane   \n",
              "2    Military - U.S. Navy      NaN    Test flight               Dirigible   \n",
              "3                 Private      NaN            NaN        Curtiss seaplane   \n",
              "4  Military - German Navy      NaN            NaN  Zeppelin L-1 (airship)   \n",
              "\n",
              "  Registration cn/ln  Aboard  Aboard Passangers  Aboard Crew  Fatalities  \\\n",
              "0          NaN     1     2.0                1.0          1.0         1.0   \n",
              "1          SC1   NaN     1.0                0.0          1.0         1.0   \n",
              "2          NaN   NaN     5.0                0.0          5.0         5.0   \n",
              "3          NaN   NaN     1.0                0.0          1.0         1.0   \n",
              "4          NaN   NaN    20.0                NaN          NaN        14.0   \n",
              "\n",
              "   Fatalities Passangers  Fatalities Crew  Ground  \\\n",
              "0                    1.0              0.0     0.0   \n",
              "1                    0.0              0.0     0.0   \n",
              "2                    0.0              5.0     0.0   \n",
              "3                    0.0              1.0     0.0   \n",
              "4                    NaN              NaN     0.0   \n",
              "\n",
              "                                             Summary  \n",
              "0  During a demonstration flight, a U.S. Army fly...  \n",
              "1  Eugene Lefebvre was the first pilot to ever be...  \n",
              "2  First U.S. dirigible Akron exploded just offsh...  \n",
              "3  The first fatal airplane accident in Canada oc...  \n",
              "4  The airship flew into a thunderstorm and encou...  "
            ],
            "text/html": [
              "\n",
              "  <div id=\"df-0101ce85-2ebb-47c5-8ae7-de12e5f4cafc\" class=\"colab-df-container\">\n",
              "    <div>\n",
              "<style scoped>\n",
              "    .dataframe tbody tr th:only-of-type {\n",
              "        vertical-align: middle;\n",
              "    }\n",
              "\n",
              "    .dataframe tbody tr th {\n",
              "        vertical-align: top;\n",
              "    }\n",
              "\n",
              "    .dataframe thead th {\n",
              "        text-align: right;\n",
              "    }\n",
              "</style>\n",
              "<table border=\"1\" class=\"dataframe\">\n",
              "  <thead>\n",
              "    <tr style=\"text-align: right;\">\n",
              "      <th></th>\n",
              "      <th>Date</th>\n",
              "      <th>Time</th>\n",
              "      <th>Location</th>\n",
              "      <th>Operator</th>\n",
              "      <th>Flight #</th>\n",
              "      <th>Route</th>\n",
              "      <th>AC Type</th>\n",
              "      <th>Registration</th>\n",
              "      <th>cn/ln</th>\n",
              "      <th>Aboard</th>\n",
              "      <th>Aboard Passangers</th>\n",
              "      <th>Aboard Crew</th>\n",
              "      <th>Fatalities</th>\n",
              "      <th>Fatalities Passangers</th>\n",
              "      <th>Fatalities Crew</th>\n",
              "      <th>Ground</th>\n",
              "      <th>Summary</th>\n",
              "    </tr>\n",
              "  </thead>\n",
              "  <tbody>\n",
              "    <tr>\n",
              "      <th>0</th>\n",
              "      <td>9/17/1908</td>\n",
              "      <td>17:18</td>\n",
              "      <td>Fort Myer, Virginia</td>\n",
              "      <td>Military - U.S. Army</td>\n",
              "      <td>NaN</td>\n",
              "      <td>Demonstration</td>\n",
              "      <td>Wright Flyer III</td>\n",
              "      <td>NaN</td>\n",
              "      <td>1</td>\n",
              "      <td>2.0</td>\n",
              "      <td>1.0</td>\n",
              "      <td>1.0</td>\n",
              "      <td>1.0</td>\n",
              "      <td>1.0</td>\n",
              "      <td>0.0</td>\n",
              "      <td>0.0</td>\n",
              "      <td>During a demonstration flight, a U.S. Army fly...</td>\n",
              "    </tr>\n",
              "    <tr>\n",
              "      <th>1</th>\n",
              "      <td>9/7/1909</td>\n",
              "      <td>NaN</td>\n",
              "      <td>Juvisy-sur-Orge, France</td>\n",
              "      <td>NaN</td>\n",
              "      <td>NaN</td>\n",
              "      <td>Air show</td>\n",
              "      <td>Wright Byplane</td>\n",
              "      <td>SC1</td>\n",
              "      <td>NaN</td>\n",
              "      <td>1.0</td>\n",
              "      <td>0.0</td>\n",
              "      <td>1.0</td>\n",
              "      <td>1.0</td>\n",
              "      <td>0.0</td>\n",
              "      <td>0.0</td>\n",
              "      <td>0.0</td>\n",
              "      <td>Eugene Lefebvre was the first pilot to ever be...</td>\n",
              "    </tr>\n",
              "    <tr>\n",
              "      <th>2</th>\n",
              "      <td>7/12/1912</td>\n",
              "      <td>6:30</td>\n",
              "      <td>Atlantic City, New Jersey</td>\n",
              "      <td>Military - U.S. Navy</td>\n",
              "      <td>NaN</td>\n",
              "      <td>Test flight</td>\n",
              "      <td>Dirigible</td>\n",
              "      <td>NaN</td>\n",
              "      <td>NaN</td>\n",
              "      <td>5.0</td>\n",
              "      <td>0.0</td>\n",
              "      <td>5.0</td>\n",
              "      <td>5.0</td>\n",
              "      <td>0.0</td>\n",
              "      <td>5.0</td>\n",
              "      <td>0.0</td>\n",
              "      <td>First U.S. dirigible Akron exploded just offsh...</td>\n",
              "    </tr>\n",
              "    <tr>\n",
              "      <th>3</th>\n",
              "      <td>8/6/1913</td>\n",
              "      <td>NaN</td>\n",
              "      <td>Victoria, British Columbia, Canada</td>\n",
              "      <td>Private</td>\n",
              "      <td>NaN</td>\n",
              "      <td>NaN</td>\n",
              "      <td>Curtiss seaplane</td>\n",
              "      <td>NaN</td>\n",
              "      <td>NaN</td>\n",
              "      <td>1.0</td>\n",
              "      <td>0.0</td>\n",
              "      <td>1.0</td>\n",
              "      <td>1.0</td>\n",
              "      <td>0.0</td>\n",
              "      <td>1.0</td>\n",
              "      <td>0.0</td>\n",
              "      <td>The first fatal airplane accident in Canada oc...</td>\n",
              "    </tr>\n",
              "    <tr>\n",
              "      <th>4</th>\n",
              "      <td>9/9/1913</td>\n",
              "      <td>18:30</td>\n",
              "      <td>Over the North Sea</td>\n",
              "      <td>Military - German Navy</td>\n",
              "      <td>NaN</td>\n",
              "      <td>NaN</td>\n",
              "      <td>Zeppelin L-1 (airship)</td>\n",
              "      <td>NaN</td>\n",
              "      <td>NaN</td>\n",
              "      <td>20.0</td>\n",
              "      <td>NaN</td>\n",
              "      <td>NaN</td>\n",
              "      <td>14.0</td>\n",
              "      <td>NaN</td>\n",
              "      <td>NaN</td>\n",
              "      <td>0.0</td>\n",
              "      <td>The airship flew into a thunderstorm and encou...</td>\n",
              "    </tr>\n",
              "  </tbody>\n",
              "</table>\n",
              "</div>\n",
              "    <div class=\"colab-df-buttons\">\n",
              "\n",
              "  <div class=\"colab-df-container\">\n",
              "    <button class=\"colab-df-convert\" onclick=\"convertToInteractive('df-0101ce85-2ebb-47c5-8ae7-de12e5f4cafc')\"\n",
              "            title=\"Convert this dataframe to an interactive table.\"\n",
              "            style=\"display:none;\">\n",
              "\n",
              "  <svg xmlns=\"http://www.w3.org/2000/svg\" height=\"24px\" viewBox=\"0 -960 960 960\">\n",
              "    <path d=\"M120-120v-720h720v720H120Zm60-500h600v-160H180v160Zm220 220h160v-160H400v160Zm0 220h160v-160H400v160ZM180-400h160v-160H180v160Zm440 0h160v-160H620v160ZM180-180h160v-160H180v160Zm440 0h160v-160H620v160Z\"/>\n",
              "  </svg>\n",
              "    </button>\n",
              "\n",
              "  <style>\n",
              "    .colab-df-container {\n",
              "      display:flex;\n",
              "      gap: 12px;\n",
              "    }\n",
              "\n",
              "    .colab-df-convert {\n",
              "      background-color: #E8F0FE;\n",
              "      border: none;\n",
              "      border-radius: 50%;\n",
              "      cursor: pointer;\n",
              "      display: none;\n",
              "      fill: #1967D2;\n",
              "      height: 32px;\n",
              "      padding: 0 0 0 0;\n",
              "      width: 32px;\n",
              "    }\n",
              "\n",
              "    .colab-df-convert:hover {\n",
              "      background-color: #E2EBFA;\n",
              "      box-shadow: 0px 1px 2px rgba(60, 64, 67, 0.3), 0px 1px 3px 1px rgba(60, 64, 67, 0.15);\n",
              "      fill: #174EA6;\n",
              "    }\n",
              "\n",
              "    .colab-df-buttons div {\n",
              "      margin-bottom: 4px;\n",
              "    }\n",
              "\n",
              "    [theme=dark] .colab-df-convert {\n",
              "      background-color: #3B4455;\n",
              "      fill: #D2E3FC;\n",
              "    }\n",
              "\n",
              "    [theme=dark] .colab-df-convert:hover {\n",
              "      background-color: #434B5C;\n",
              "      box-shadow: 0px 1px 3px 1px rgba(0, 0, 0, 0.15);\n",
              "      filter: drop-shadow(0px 1px 2px rgba(0, 0, 0, 0.3));\n",
              "      fill: #FFFFFF;\n",
              "    }\n",
              "  </style>\n",
              "\n",
              "    <script>\n",
              "      const buttonEl =\n",
              "        document.querySelector('#df-0101ce85-2ebb-47c5-8ae7-de12e5f4cafc button.colab-df-convert');\n",
              "      buttonEl.style.display =\n",
              "        google.colab.kernel.accessAllowed ? 'block' : 'none';\n",
              "\n",
              "      async function convertToInteractive(key) {\n",
              "        const element = document.querySelector('#df-0101ce85-2ebb-47c5-8ae7-de12e5f4cafc');\n",
              "        const dataTable =\n",
              "          await google.colab.kernel.invokeFunction('convertToInteractive',\n",
              "                                                    [key], {});\n",
              "        if (!dataTable) return;\n",
              "\n",
              "        const docLinkHtml = 'Like what you see? Visit the ' +\n",
              "          '<a target=\"_blank\" href=https://colab.research.google.com/notebooks/data_table.ipynb>data table notebook</a>'\n",
              "          + ' to learn more about interactive tables.';\n",
              "        element.innerHTML = '';\n",
              "        dataTable['output_type'] = 'display_data';\n",
              "        await google.colab.output.renderOutput(dataTable, element);\n",
              "        const docLink = document.createElement('div');\n",
              "        docLink.innerHTML = docLinkHtml;\n",
              "        element.appendChild(docLink);\n",
              "      }\n",
              "    </script>\n",
              "  </div>\n",
              "\n",
              "\n",
              "<div id=\"df-21a9453d-516b-4f37-b9d7-5dbe78cede1a\">\n",
              "  <button class=\"colab-df-quickchart\" onclick=\"quickchart('df-21a9453d-516b-4f37-b9d7-5dbe78cede1a')\"\n",
              "            title=\"Suggest charts\"\n",
              "            style=\"display:none;\">\n",
              "\n",
              "<svg xmlns=\"http://www.w3.org/2000/svg\" height=\"24px\"viewBox=\"0 0 24 24\"\n",
              "     width=\"24px\">\n",
              "    <g>\n",
              "        <path d=\"M19 3H5c-1.1 0-2 .9-2 2v14c0 1.1.9 2 2 2h14c1.1 0 2-.9 2-2V5c0-1.1-.9-2-2-2zM9 17H7v-7h2v7zm4 0h-2V7h2v10zm4 0h-2v-4h2v4z\"/>\n",
              "    </g>\n",
              "</svg>\n",
              "  </button>\n",
              "\n",
              "<style>\n",
              "  .colab-df-quickchart {\n",
              "      --bg-color: #E8F0FE;\n",
              "      --fill-color: #1967D2;\n",
              "      --hover-bg-color: #E2EBFA;\n",
              "      --hover-fill-color: #174EA6;\n",
              "      --disabled-fill-color: #AAA;\n",
              "      --disabled-bg-color: #DDD;\n",
              "  }\n",
              "\n",
              "  [theme=dark] .colab-df-quickchart {\n",
              "      --bg-color: #3B4455;\n",
              "      --fill-color: #D2E3FC;\n",
              "      --hover-bg-color: #434B5C;\n",
              "      --hover-fill-color: #FFFFFF;\n",
              "      --disabled-bg-color: #3B4455;\n",
              "      --disabled-fill-color: #666;\n",
              "  }\n",
              "\n",
              "  .colab-df-quickchart {\n",
              "    background-color: var(--bg-color);\n",
              "    border: none;\n",
              "    border-radius: 50%;\n",
              "    cursor: pointer;\n",
              "    display: none;\n",
              "    fill: var(--fill-color);\n",
              "    height: 32px;\n",
              "    padding: 0;\n",
              "    width: 32px;\n",
              "  }\n",
              "\n",
              "  .colab-df-quickchart:hover {\n",
              "    background-color: var(--hover-bg-color);\n",
              "    box-shadow: 0 1px 2px rgba(60, 64, 67, 0.3), 0 1px 3px 1px rgba(60, 64, 67, 0.15);\n",
              "    fill: var(--button-hover-fill-color);\n",
              "  }\n",
              "\n",
              "  .colab-df-quickchart-complete:disabled,\n",
              "  .colab-df-quickchart-complete:disabled:hover {\n",
              "    background-color: var(--disabled-bg-color);\n",
              "    fill: var(--disabled-fill-color);\n",
              "    box-shadow: none;\n",
              "  }\n",
              "\n",
              "  .colab-df-spinner {\n",
              "    border: 2px solid var(--fill-color);\n",
              "    border-color: transparent;\n",
              "    border-bottom-color: var(--fill-color);\n",
              "    animation:\n",
              "      spin 1s steps(1) infinite;\n",
              "  }\n",
              "\n",
              "  @keyframes spin {\n",
              "    0% {\n",
              "      border-color: transparent;\n",
              "      border-bottom-color: var(--fill-color);\n",
              "      border-left-color: var(--fill-color);\n",
              "    }\n",
              "    20% {\n",
              "      border-color: transparent;\n",
              "      border-left-color: var(--fill-color);\n",
              "      border-top-color: var(--fill-color);\n",
              "    }\n",
              "    30% {\n",
              "      border-color: transparent;\n",
              "      border-left-color: var(--fill-color);\n",
              "      border-top-color: var(--fill-color);\n",
              "      border-right-color: var(--fill-color);\n",
              "    }\n",
              "    40% {\n",
              "      border-color: transparent;\n",
              "      border-right-color: var(--fill-color);\n",
              "      border-top-color: var(--fill-color);\n",
              "    }\n",
              "    60% {\n",
              "      border-color: transparent;\n",
              "      border-right-color: var(--fill-color);\n",
              "    }\n",
              "    80% {\n",
              "      border-color: transparent;\n",
              "      border-right-color: var(--fill-color);\n",
              "      border-bottom-color: var(--fill-color);\n",
              "    }\n",
              "    90% {\n",
              "      border-color: transparent;\n",
              "      border-bottom-color: var(--fill-color);\n",
              "    }\n",
              "  }\n",
              "</style>\n",
              "\n",
              "  <script>\n",
              "    async function quickchart(key) {\n",
              "      const quickchartButtonEl =\n",
              "        document.querySelector('#' + key + ' button');\n",
              "      quickchartButtonEl.disabled = true;  // To prevent multiple clicks.\n",
              "      quickchartButtonEl.classList.add('colab-df-spinner');\n",
              "      try {\n",
              "        const charts = await google.colab.kernel.invokeFunction(\n",
              "            'suggestCharts', [key], {});\n",
              "      } catch (error) {\n",
              "        console.error('Error during call to suggestCharts:', error);\n",
              "      }\n",
              "      quickchartButtonEl.classList.remove('colab-df-spinner');\n",
              "      quickchartButtonEl.classList.add('colab-df-quickchart-complete');\n",
              "    }\n",
              "    (() => {\n",
              "      let quickchartButtonEl =\n",
              "        document.querySelector('#df-21a9453d-516b-4f37-b9d7-5dbe78cede1a button');\n",
              "      quickchartButtonEl.style.display =\n",
              "        google.colab.kernel.accessAllowed ? 'block' : 'none';\n",
              "    })();\n",
              "  </script>\n",
              "</div>\n",
              "\n",
              "    </div>\n",
              "  </div>\n"
            ]
          },
          "metadata": {},
          "execution_count": 8
        }
      ]
    },
    {
      "cell_type": "code",
      "source": [
        "df.shape"
      ],
      "metadata": {
        "colab": {
          "base_uri": "https://localhost:8080/"
        },
        "id": "wS7B-qgoMSAB",
        "outputId": "0a880e6a-30c0-4dc0-f0c0-be15e2723a18"
      },
      "execution_count": 12,
      "outputs": [
        {
          "output_type": "execute_result",
          "data": {
            "text/plain": [
              "(4998, 17)"
            ]
          },
          "metadata": {},
          "execution_count": 12
        }
      ]
    },
    {
      "cell_type": "code",
      "source": [
        "# Check for missing values\n",
        "df.isnull().sum()"
      ],
      "metadata": {
        "colab": {
          "base_uri": "https://localhost:8080/"
        },
        "id": "dXK5MfLrMJng",
        "outputId": "18d5db20-a5d3-44c6-bacd-c32f2f85dac5"
      },
      "execution_count": 10,
      "outputs": [
        {
          "output_type": "execute_result",
          "data": {
            "text/plain": [
              "Date                        0\n",
              "Time                     1512\n",
              "Location                    4\n",
              "Operator                   10\n",
              "Flight #                 3669\n",
              "Route                     776\n",
              "AC Type                    15\n",
              "Registration              274\n",
              "cn/ln                     668\n",
              "Aboard                     18\n",
              "Aboard Passangers         229\n",
              "Aboard Crew               226\n",
              "Fatalities                  8\n",
              "Fatalities Passangers     242\n",
              "Fatalities Crew           241\n",
              "Ground                     42\n",
              "Summary                    64\n",
              "dtype: int64"
            ]
          },
          "metadata": {},
          "execution_count": 10
        }
      ]
    },
    {
      "cell_type": "code",
      "source": [
        "df.drop('Time', axis=1, inplace=True)\n",
        "df.drop('Flight #', axis = 1, inplace=True)\n",
        "df.drop('Route', axis = 1, inplace=True)\n",
        "df.drop('cn/ln', axis = 1, inplace=True)"
      ],
      "metadata": {
        "id": "gTmIag8CMd4l"
      },
      "execution_count": 17,
      "outputs": []
    },
    {
      "cell_type": "code",
      "source": [
        "# Convert dates to datetime format\n",
        "df['Date'] = pd.to_datetime(df['Date'], errors='coerce')"
      ],
      "metadata": {
        "id": "pMsVbHNYNJ8W"
      },
      "execution_count": 18,
      "outputs": []
    },
    {
      "cell_type": "code",
      "source": [
        "df.dtypes"
      ],
      "metadata": {
        "colab": {
          "base_uri": "https://localhost:8080/"
        },
        "id": "iNxeJu0nNL4R",
        "outputId": "01cdd7c6-2121-4d53-d2b7-4cc2fc87f1b8"
      },
      "execution_count": 19,
      "outputs": [
        {
          "output_type": "execute_result",
          "data": {
            "text/plain": [
              "Date                     datetime64[ns]\n",
              "Location                         object\n",
              "Operator                         object\n",
              "AC Type                          object\n",
              "Registration                     object\n",
              "Aboard                          float64\n",
              "Aboard Passangers               float64\n",
              "Aboard Crew                     float64\n",
              "Fatalities                      float64\n",
              "Fatalities Passangers           float64\n",
              "Fatalities Crew                 float64\n",
              "Ground                          float64\n",
              "Summary                          object\n",
              "dtype: object"
            ]
          },
          "metadata": {},
          "execution_count": 19
        }
      ]
    },
    {
      "cell_type": "markdown",
      "source": [
        "## 2. Exploratory Data Analysis:\n",
        "\n",
        "Use Pandas to explore basic statistics such as the number of crashes, fatalities, and survival rates.\n",
        "\n",
        "Analyze the frequency of crashes over time to identify any trends."
      ],
      "metadata": {
        "id": "zq4PoSqbNPhl"
      }
    },
    {
      "cell_type": "code",
      "source": [
        "# Basic statistics\n",
        "crashes_count = len(df)\n",
        "fatalities_sum = df['Fatalities'].sum()\n",
        "survivors_sum = df['Aboard'].sum() - fatalities_sum\n",
        "survival_rate = survivors_sum / df['Aboard'].sum()\n",
        "\n",
        "print('Amount of fatalities: ', fatalities_sum)\n",
        "print('Amount of survivors: ', survivors_sum)\n",
        "print('Survival Rate: ', survival_rate)"
      ],
      "metadata": {
        "colab": {
          "base_uri": "https://localhost:8080/"
        },
        "id": "-bTgH6npNbkn",
        "outputId": "38857cc9-feaf-4b91-f819-e6326192e193"
      },
      "execution_count": 33,
      "outputs": [
        {
          "output_type": "stream",
          "name": "stdout",
          "text": [
            "Amount of fatalities:  111644.0\n",
            "Amount of survivors:  43712.0\n",
            "Survival Rate:  0.2813666675249105\n"
          ]
        }
      ]
    },
    {
      "cell_type": "code",
      "source": [
        "# Explore crashes over time\n",
        "df['Year'] = df['Date'].dt.year\n",
        "crashes_by_year = df['Year'].value_counts().sort_index()\n",
        "print(crashes_by_year)"
      ],
      "metadata": {
        "colab": {
          "base_uri": "https://localhost:8080/"
        },
        "id": "Wdai9j7SNiWR",
        "outputId": "b0c78d56-ea19-4201-c8bd-9a1cfbc65abe"
      },
      "execution_count": 42,
      "outputs": [
        {
          "output_type": "stream",
          "name": "stdout",
          "text": [
            "1908     1\n",
            "1909     1\n",
            "1912     1\n",
            "1913     3\n",
            "1915     2\n",
            "        ..\n",
            "2019    13\n",
            "2020     8\n",
            "2021     9\n",
            "2022     6\n",
            "2023     4\n",
            "Name: Year, Length: 113, dtype: int64\n"
          ]
        }
      ]
    },
    {
      "cell_type": "markdown",
      "source": [
        "## 3. Statistical Analysis:\n",
        "\n",
        "Apply SciPy to analyze the distribution of fatalities and survival rates. Calculate key statistics like mean, median, and standard deviation.\n",
        "\n",
        "Conduct a hypothesis test (e.g., comparing the average number of fatalities in different decades or regions)."
      ],
      "metadata": {
        "id": "Bz0KG77jOyg3"
      }
    },
    {
      "cell_type": "code",
      "source": [
        "# Analyze the distribution of fatalities and survival rates\n",
        "fatalities_distribution = df['Fatalities'].dropna()\n",
        "survival_rate_distribution = df['Aboard'].sub(df['Fatalities']).dropna() / df['Aboard'].dropna()"
      ],
      "metadata": {
        "id": "u-21nYphNtaM"
      },
      "execution_count": 23,
      "outputs": []
    },
    {
      "cell_type": "code",
      "source": [
        "# Calculate key statistics\n",
        "fatalities_mean = fatalities_distribution.mean()\n",
        "print('Fatalities mean ', fatalities_mean)\n",
        "\n",
        "fatalities_median = fatalities_distribution.median()\n",
        "print('Fatalities median ', fatalities_median)\n",
        "\n",
        "fatalities_std = fatalities_distribution.std()\n",
        "print('Fatalities standart deveation ', fatalities_std)\n",
        "\n",
        "survival_rate_mean = survival_rate_distribution.mean()\n",
        "print('\\nSurvival Rate mean ', survival_rate_mean)\n",
        "\n",
        "survival_rate_median = survival_rate_distribution.median()\n",
        "print('Survival Rate median ', survival_rate_median)\n",
        "\n",
        "survival_rate_std = survival_rate_distribution.std()\n",
        "print('Survival Rate standart deveation ', survival_rate_std)"
      ],
      "metadata": {
        "colab": {
          "base_uri": "https://localhost:8080/"
        },
        "id": "FLiJC3GxNu0E",
        "outputId": "cb695da0-7306-44ca-fd85-221478378c3e"
      },
      "execution_count": 29,
      "outputs": [
        {
          "output_type": "stream",
          "name": "stdout",
          "text": [
            "Fatalities mean  22.37354709418838\n",
            "Fatalities median  11.0\n",
            "Fatalities standart deveation  35.06174065974316\n",
            "\n",
            "Survival Rate mean  0.181489019431307\n",
            "Survival Rate median  0.0\n",
            "Survival Rate standart deveation  0.3117242492487905\n"
          ]
        }
      ]
    },
    {
      "cell_type": "code",
      "source": [
        "# Conduct a hypothesis test\n",
        "# The null hypothesis: There is no significant difference in average fatalities between the two decades.\n",
        "# Alternative hypothes: There is a significant difference in average fatalities between the two decades.\n",
        "\n",
        "# Create a new column for decades\n",
        "df['Decade'] = (df['Year'] // 10) * 10\n",
        "\n",
        "# Perform a t-test\n",
        "decade_1 = df[df['Decade'] == 1950]['Fatalities'].dropna()\n",
        "decade_2 = df[df['Decade'] == 2000]['Fatalities'].dropna()\n",
        "\n",
        "# Perform the t-test\n",
        "t_statistic, p_value = ttest_ind(decade_1, decade_2)\n",
        "\n",
        "# Print the results\n",
        "print(f'T-Statistic: {t_statistic}')\n",
        "print(f'P-Value: {p_value}')"
      ],
      "metadata": {
        "colab": {
          "base_uri": "https://localhost:8080/"
        },
        "id": "yCbqXmyTQBBa",
        "outputId": "c060b000-4353-4085-df9c-bceb23a78f69"
      },
      "execution_count": 38,
      "outputs": [
        {
          "output_type": "stream",
          "name": "stdout",
          "text": [
            "T-Statistic: -2.263541007505455\n",
            "P-Value: 0.023787769823978115\n"
          ]
        }
      ]
    },
    {
      "cell_type": "code",
      "source": [
        "# Reject or Not the null hypothesis\n",
        "alpha = 0.05\n",
        "if p_value < alpha:\n",
        "    print('Reject the null hypothesis: There is a significant difference in average fatalities between the two decades.')\n",
        "else:\n",
        "    print('Not reject the null hypothesis: There is no significant difference in average fatalities between the two decades.')"
      ],
      "metadata": {
        "colab": {
          "base_uri": "https://localhost:8080/"
        },
        "id": "9zPivBYcULnN",
        "outputId": "2e932c30-85f9-4339-e651-637b97679162"
      },
      "execution_count": 40,
      "outputs": [
        {
          "output_type": "stream",
          "name": "stdout",
          "text": [
            "Reject the null hypothesis: There is a significant difference in average fatalities between the two decades.\n"
          ]
        }
      ]
    },
    {
      "cell_type": "markdown",
      "source": [
        "## 4. Visualization:\n",
        "\n",
        "Create charts and graphs using Matplotlib and Seaborn to visualize the findings from your exploratory data analysis and statistical tests.\n",
        "\n",
        "Examples might include time series plots of crashes over years, bar charts of crashes by region, and histograms of fatalities."
      ],
      "metadata": {
        "id": "oTfFuZUnUbrq"
      }
    },
    {
      "cell_type": "code",
      "source": [
        "# Crashes over years\n",
        "plt.figure(figsize=(9, 6))\n",
        "sns.lineplot(x=crashes_by_year.index, y=crashes_by_year.values)\n",
        "plt.title('Number of Airplane Crashes Over Time')\n",
        "plt.xlabel('Year')\n",
        "plt.ylabel('Number of Crashes')\n",
        "plt.show()\n",
        "\n",
        "# Fatalities\n",
        "plt.figure(figsize=(9, 6))\n",
        "sns.histplot(fatalities_distribution, kde=True)\n",
        "plt.title('Distribution of Fatalities in Airplane Crashes')\n",
        "plt.xlabel('Number of Fatalities')\n",
        "plt.ylabel('Frequency')\n",
        "plt.show()"
      ],
      "metadata": {
        "colab": {
          "base_uri": "https://localhost:8080/",
          "height": 1000
        },
        "id": "1tLYWY3iLc4v",
        "outputId": "bdd1dae5-d692-42a5-fc23-754ba28e3ad3"
      },
      "execution_count": 46,
      "outputs": [
        {
          "output_type": "display_data",
          "data": {
            "text/plain": [
              "<Figure size 900x600 with 1 Axes>"
            ],
            "image/png": "[encoded data removed]"
          },
          "metadata": {}
        },
        {
          "output_type": "display_data",
          "data": {
            "text/plain": [
              "<Figure size 900x600 with 1 Axes>"
            ],
            "image/png": "[encoded data removed]"
          },
          "metadata": {}
        }
      ]
    },
    {
      "cell_type": "markdown",
      "source": [
        "## 5. Insight and Report:\n",
        "\n",
        "Summarize your findings and provide insights into the patterns or anomalies discovered in the data.\n"
      ],
      "metadata": {
        "id": "0_43WV9eOsyx"
      }
    },
    {
      "cell_type": "markdown",
      "source": [
        "\n",
        "*   The time series plot showed fluctuations in the number of crashes over the years. Any distinct patterns or anomalies should be further investigated.\n",
        "\n",
        "*   The histogram of fatalities showcased the variability in the severity of crashes. Understanding the distribution is crucial for assessing the overall impact of airplane accidents.\n",
        "\n",
        "*   The t-test results comparing the average fatalities between different decades could reveal whether safety measures or aviation practices have significantly improved or worsened over time."
      ],
      "metadata": {
        "id": "hS94yO8Uanx9"
      }
    },
    {
      "cell_type": "code",
      "source": [],
      "metadata": {
        "id": "D4CTZvr_aKhn"
      },
      "execution_count": null,
      "outputs": []
    }
  ]
}
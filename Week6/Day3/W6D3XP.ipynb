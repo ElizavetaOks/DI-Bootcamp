{
  "nbformat": 4,
  "nbformat_minor": 0,
  "metadata": {
    "colab": {
      "provenance": []
    },
    "kernelspec": {
      "name": "python3",
      "display_name": "Python 3"
    },
    "language_info": {
      "name": "python"
    }
  },
  "cells": [
    {
      "cell_type": "code",
      "source": [
        "import numpy as np\n",
        "import matplotlib.pyplot as plt\n",
        "import pandas as pd\n"
      ],
      "metadata": {
        "id": "-Hb-08pePEi1"
      },
      "execution_count": 22,
      "outputs": []
    },
    {
      "cell_type": "markdown",
      "source": [
        "🌟 Exercise 1 : Basic Usage Of SciPy\n",
        "\n",
        "Import the SciPy library and explore its version."
      ],
      "metadata": {
        "id": "AQsIiu0-OTtJ"
      }
    },
    {
      "cell_type": "code",
      "execution_count": 17,
      "metadata": {
        "colab": {
          "base_uri": "https://localhost:8080/"
        },
        "id": "jPvl3pP9OEUg",
        "outputId": "427ab4eb-d5a5-4c02-bd25-3cb3af40a1c6"
      },
      "outputs": [
        {
          "output_type": "stream",
          "name": "stdout",
          "text": [
            "SciPy version: 1.11.4\n"
          ]
        }
      ],
      "source": [
        "import scipy\n",
        "from scipy.stats import *\n",
        "\n",
        "print(\"SciPy version:\", scipy.__version__)"
      ]
    },
    {
      "cell_type": "markdown",
      "source": [
        "🌟 Exercise 2 : Descriptive Statistics\n",
        "\n",
        "Given a sample dataset, calculate the mean, median, variance, and standard deviation using SciPy.\n",
        "Sample dataset in code:\n"
      ],
      "metadata": {
        "id": "qZhyTJIdOrRI"
      }
    },
    {
      "cell_type": "code",
      "source": [
        "data = [12, 15, 13, 12, 18, 20, 22, 21]"
      ],
      "metadata": {
        "id": "YlqaFc2bOjvd"
      },
      "execution_count": 3,
      "outputs": []
    },
    {
      "cell_type": "code",
      "source": [
        "# Calculate mean\n",
        "mean_value = np.mean(data)\n",
        "print(\"Mean:\", mean_value)"
      ],
      "metadata": {
        "colab": {
          "base_uri": "https://localhost:8080/"
        },
        "id": "VspACeIBOwAz",
        "outputId": "9ed6f9ea-d66c-4661-cef2-3bd5953e5749"
      },
      "execution_count": 7,
      "outputs": [
        {
          "output_type": "stream",
          "name": "stdout",
          "text": [
            "Mean: 16.625\n"
          ]
        }
      ]
    },
    {
      "cell_type": "code",
      "source": [
        "# Calculate median\n",
        "median_value = np.median(data)\n",
        "print(\"Median:\", median_value)"
      ],
      "metadata": {
        "colab": {
          "base_uri": "https://localhost:8080/"
        },
        "id": "2n9w5H2BO4AY",
        "outputId": "8f77e4d1-a7bc-4d70-ad1c-6346c75fbc7b"
      },
      "execution_count": 8,
      "outputs": [
        {
          "output_type": "stream",
          "name": "stdout",
          "text": [
            "Median: 16.5\n"
          ]
        }
      ]
    },
    {
      "cell_type": "code",
      "source": [
        "# Calculate variance\n",
        "variance_value = np.var(data, ddof=1)\n",
        "print(\"Variance:\", variance_value)"
      ],
      "metadata": {
        "colab": {
          "base_uri": "https://localhost:8080/"
        },
        "id": "LuVqvsyPPLcS",
        "outputId": "43ff7a35-af17-452b-99f0-1efc0c0780af"
      },
      "execution_count": 9,
      "outputs": [
        {
          "output_type": "stream",
          "name": "stdout",
          "text": [
            "Variance: 17.125\n"
          ]
        }
      ]
    },
    {
      "cell_type": "code",
      "source": [
        "# Calculate standard deviation\n",
        "std_deviation_value = np.std(data, ddof=1)\n",
        "print(\"Standard Deviation:\", std_deviation_value)"
      ],
      "metadata": {
        "colab": {
          "base_uri": "https://localhost:8080/"
        },
        "id": "Bg0A52gPPOQy",
        "outputId": "49aba7a7-e030-4526-825a-3b40424fa475"
      },
      "execution_count": 10,
      "outputs": [
        {
          "output_type": "stream",
          "name": "stdout",
          "text": [
            "Standard Deviation: 4.138236339311712\n"
          ]
        }
      ]
    },
    {
      "cell_type": "markdown",
      "source": [
        "Exercise 3 : Understanding Distributions\n",
        "\n",
        "Generate a normal distribution using SciPy with a mean of 50 and a standard deviation of 10. Plot this distribution."
      ],
      "metadata": {
        "id": "a1JlF7YWPVsx"
      }
    },
    {
      "cell_type": "code",
      "source": [
        "mean = 50\n",
        "std_dev = 10\n",
        "\n",
        "# Generate a normal distribution\n",
        "data = np.random.normal(loc=mean, scale=std_dev, size=1000)"
      ],
      "metadata": {
        "id": "b61T22v9PU6i"
      },
      "execution_count": 13,
      "outputs": []
    },
    {
      "cell_type": "code",
      "source": [
        "plt.hist(data, bins=30, density=True, alpha=0.7, color='blue')\n",
        "\n",
        "# Plot a normal distribution\n",
        "xmin, xmax = plt.xlim()\n",
        "x = np.linspace(xmin, xmax, 100)\n",
        "p = norm.pdf(x, mean, std_dev)\n",
        "plt.plot(x, p, 'k', linewidth=2)\n",
        "\n",
        "plt.show()"
      ],
      "metadata": {
        "colab": {
          "base_uri": "https://localhost:8080/",
          "height": 430
        },
        "id": "6xePOhBTPQBD",
        "outputId": "cde9e6ba-8393-45a7-f9c1-5f82ae582e61"
      },
      "execution_count": 15,
      "outputs": [
        {
          "output_type": "display_data",
          "data": {
            "text/plain": [
              "<Figure size 640x480 with 1 Axes>"
            ],
            "image/png": "[encoded data removed]"
          },
          "metadata": {}
        }
      ]
    },
    {
      "cell_type": "markdown",
      "source": [
        "🌟 Exercise 4 : T-Test Application\n",
        "\n",
        "Perform a T-test on two sets of randomly generated data. Hint: Use numpy.random.normal() to generate the datasets."
      ],
      "metadata": {
        "id": "XdMdpbOXQrrG"
      }
    },
    {
      "cell_type": "code",
      "source": [
        "# Generate two sets of random data\n",
        "np.random.seed(0)\n",
        "data1 = np.random.normal(loc=50, scale=10, size=100)\n",
        "data2 = np.random.normal(loc=55, scale=12, size=100)\n",
        "\n",
        "# Perform a t-test\n",
        "t_statistic, p_value = ttest_ind(data1, data2)\n",
        "\n",
        "print(\"T-statistic:\", t_statistic)\n",
        "print(\"P-value:\", p_value)"
      ],
      "metadata": {
        "colab": {
          "base_uri": "https://localhost:8080/"
        },
        "id": "ycF_mNGNQMC4",
        "outputId": "b7def2f2-c8f9-4983-c3e3-69742aaef3cf"
      },
      "execution_count": 19,
      "outputs": [
        {
          "output_type": "stream",
          "name": "stdout",
          "text": [
            "T-statistic: -3.351126785281285\n",
            "P-value: 0.0009638719426795235\n"
          ]
        }
      ]
    },
    {
      "cell_type": "code",
      "source": [
        "# Check if the difference is statistically significant\n",
        "alpha = 0.05\n",
        "if p_value < alpha:\n",
        "    print(\"The difference is statistically significant.\")\n",
        "else:\n",
        "    print(\"The difference is not statistically significant.\")"
      ],
      "metadata": {
        "colab": {
          "base_uri": "https://localhost:8080/"
        },
        "id": "LwdOA2vFRmHg",
        "outputId": "a96cc92d-23b3-4fa1-e5b5-18a65595ea68"
      },
      "execution_count": 20,
      "outputs": [
        {
          "output_type": "stream",
          "name": "stdout",
          "text": [
            "The difference is statistically significant.\n"
          ]
        }
      ]
    },
    {
      "cell_type": "markdown",
      "source": [
        "🌟 Exercise 5 : Working With DataFrames\n",
        "\n",
        "Task: Import a dataset using Pandas and calculate descriptive statistics for a specific column using SciPy.\n",
        "\n",
        "Sample Dataset: Use any publicly available dataset (e.g., Iris dataset)."
      ],
      "metadata": {
        "id": "aYgreyNgSNt4"
      }
    },
    {
      "cell_type": "code",
      "source": [
        "df = pd.read_csv(r'/content/DC_Films_Data_complete.csv')"
      ],
      "metadata": {
        "id": "joBHQ4x7SGjj"
      },
      "execution_count": 29,
      "outputs": []
    },
    {
      "cell_type": "code",
      "source": [
        "# Display the first few rows of the dataset\n",
        "print(\"First few rows of the dataset:\")\n",
        "df.head()"
      ],
      "metadata": {
        "colab": {
          "base_uri": "https://localhost:8080/",
          "height": 481
        },
        "id": "9WKEZpRYSc5l",
        "outputId": "efdf939b-70f8-4472-e667-2d4bf36c6c36"
      },
      "execution_count": 30,
      "outputs": [
        {
          "output_type": "stream",
          "name": "stdout",
          "text": [
            "First few rows of the dataset:\n"
          ]
        },
        {
          "output_type": "execute_result",
          "data": {
            "text/plain": [
              "                Film U.S. release date  \\\n",
              "0  Batman: The Movie    01 August 1966   \n",
              "1           Superman  15 December 1978   \n",
              "2        Superman II      19 June 1981   \n",
              "3        Swamp Thing  19 February 1982   \n",
              "4       Superman III      17 June 1983   \n",
              "\n",
              "  Box office gross Domestic (U.S. and Canada )  \\\n",
              "0                                          NaN   \n",
              "1                                 $134,478,449   \n",
              "2                                 $108,185,706   \n",
              "3                                          NaN   \n",
              "4                                  $59,950,623   \n",
              "\n",
              "  Box office gross Other territories Box office gross Worldwide       Budget  \\\n",
              "0                                NaN                        NaN   $1,378,000   \n",
              "1                       $166,000,000               $300,478,449  $55,000,000   \n",
              "2                       $108,200,000               $216,385,706  $54,000,000   \n",
              "3                                NaN                        NaN   $3,000,000   \n",
              "4                        $20,300,000                $80,250,623  $39,000,000   \n",
              "\n",
              "  MPAA Rating    Length  Minutes            Distributor  ... Character Family  \\\n",
              "0          PG  01:45:00      105  Twentieth Century Fox  ...           Batman   \n",
              "1          PG  02:23:00      143           Warner Bros.  ...         Superman   \n",
              "2          PG  02:07:00      127           Warner Bros.  ...         Superman   \n",
              "3          PG  01:31:00       91       Embassy Pictures  ...      Swamp Thing   \n",
              "4          PG  02:05:00      125           Warner Bros.  ...         Superman   \n",
              "\n",
              "  Domestic % Gross to Budget  Rotten Tomatoes Critic Score  Male/Female-led  \\\n",
              "0        NaN             NaN                            81             Male   \n",
              "1        45%            5.46                            94             Male   \n",
              "2        50%            4.01                            83             Male   \n",
              "3        NaN             NaN                            60             Male   \n",
              "4        75%            2.06                            29             Male   \n",
              "\n",
              "   Year  Inflation Adjusted Worldwide Gross Inflation Adjusted Budget  \\\n",
              "0  1966                                 NaN               $12,940,534   \n",
              "1  1978                      $1,402,212,177              $256,662,899   \n",
              "2  1981                        $724,290,330              $180,749,822   \n",
              "3  1982                                 NaN                $9,458,928   \n",
              "4  1983                        $245,152,923              $119,138,813   \n",
              "\n",
              "      2.5x prod Break Even  \n",
              "0    $3,445,000        NaN  \n",
              "1  $137,500,000    Success  \n",
              "2  $135,000,000    Success  \n",
              "3    $7,500,000        NaN  \n",
              "4   $97,500,000       Flop  \n",
              "\n",
              "[5 rows x 21 columns]"
            ],
            "text/html": [
              "\n",
              "  <div id=\"df-0bb84c15-1282-412f-acf4-ef282dadcef2\" class=\"colab-df-container\">\n",
              "    <div>\n",
              "<style scoped>\n",
              "    .dataframe tbody tr th:only-of-type {\n",
              "        vertical-align: middle;\n",
              "    }\n",
              "\n",
              "    .dataframe tbody tr th {\n",
              "        vertical-align: top;\n",
              "    }\n",
              "\n",
              "    .dataframe thead th {\n",
              "        text-align: right;\n",
              "    }\n",
              "</style>\n",
              "<table border=\"1\" class=\"dataframe\">\n",
              "  <thead>\n",
              "    <tr style=\"text-align: right;\">\n",
              "      <th></th>\n",
              "      <th>Film</th>\n",
              "      <th>U.S. release date</th>\n",
              "      <th>Box office gross Domestic (U.S. and Canada )</th>\n",
              "      <th>Box office gross Other territories</th>\n",
              "      <th>Box office gross Worldwide</th>\n",
              "      <th>Budget</th>\n",
              "      <th>MPAA Rating</th>\n",
              "      <th>Length</th>\n",
              "      <th>Minutes</th>\n",
              "      <th>Distributor</th>\n",
              "      <th>...</th>\n",
              "      <th>Character Family</th>\n",
              "      <th>Domestic %</th>\n",
              "      <th>Gross to Budget</th>\n",
              "      <th>Rotten Tomatoes Critic Score</th>\n",
              "      <th>Male/Female-led</th>\n",
              "      <th>Year</th>\n",
              "      <th>Inflation Adjusted Worldwide Gross</th>\n",
              "      <th>Inflation Adjusted Budget</th>\n",
              "      <th>2.5x prod</th>\n",
              "      <th>Break Even</th>\n",
              "    </tr>\n",
              "  </thead>\n",
              "  <tbody>\n",
              "    <tr>\n",
              "      <th>0</th>\n",
              "      <td>Batman: The Movie</td>\n",
              "      <td>01 August 1966</td>\n",
              "      <td>NaN</td>\n",
              "      <td>NaN</td>\n",
              "      <td>NaN</td>\n",
              "      <td>$1,378,000</td>\n",
              "      <td>PG</td>\n",
              "      <td>01:45:00</td>\n",
              "      <td>105</td>\n",
              "      <td>Twentieth Century Fox</td>\n",
              "      <td>...</td>\n",
              "      <td>Batman</td>\n",
              "      <td>NaN</td>\n",
              "      <td>NaN</td>\n",
              "      <td>81</td>\n",
              "      <td>Male</td>\n",
              "      <td>1966</td>\n",
              "      <td>NaN</td>\n",
              "      <td>$12,940,534</td>\n",
              "      <td>$3,445,000</td>\n",
              "      <td>NaN</td>\n",
              "    </tr>\n",
              "    <tr>\n",
              "      <th>1</th>\n",
              "      <td>Superman</td>\n",
              "      <td>15 December 1978</td>\n",
              "      <td>$134,478,449</td>\n",
              "      <td>$166,000,000</td>\n",
              "      <td>$300,478,449</td>\n",
              "      <td>$55,000,000</td>\n",
              "      <td>PG</td>\n",
              "      <td>02:23:00</td>\n",
              "      <td>143</td>\n",
              "      <td>Warner Bros.</td>\n",
              "      <td>...</td>\n",
              "      <td>Superman</td>\n",
              "      <td>45%</td>\n",
              "      <td>5.46</td>\n",
              "      <td>94</td>\n",
              "      <td>Male</td>\n",
              "      <td>1978</td>\n",
              "      <td>$1,402,212,177</td>\n",
              "      <td>$256,662,899</td>\n",
              "      <td>$137,500,000</td>\n",
              "      <td>Success</td>\n",
              "    </tr>\n",
              "    <tr>\n",
              "      <th>2</th>\n",
              "      <td>Superman II</td>\n",
              "      <td>19 June 1981</td>\n",
              "      <td>$108,185,706</td>\n",
              "      <td>$108,200,000</td>\n",
              "      <td>$216,385,706</td>\n",
              "      <td>$54,000,000</td>\n",
              "      <td>PG</td>\n",
              "      <td>02:07:00</td>\n",
              "      <td>127</td>\n",
              "      <td>Warner Bros.</td>\n",
              "      <td>...</td>\n",
              "      <td>Superman</td>\n",
              "      <td>50%</td>\n",
              "      <td>4.01</td>\n",
              "      <td>83</td>\n",
              "      <td>Male</td>\n",
              "      <td>1981</td>\n",
              "      <td>$724,290,330</td>\n",
              "      <td>$180,749,822</td>\n",
              "      <td>$135,000,000</td>\n",
              "      <td>Success</td>\n",
              "    </tr>\n",
              "    <tr>\n",
              "      <th>3</th>\n",
              "      <td>Swamp Thing</td>\n",
              "      <td>19 February 1982</td>\n",
              "      <td>NaN</td>\n",
              "      <td>NaN</td>\n",
              "      <td>NaN</td>\n",
              "      <td>$3,000,000</td>\n",
              "      <td>PG</td>\n",
              "      <td>01:31:00</td>\n",
              "      <td>91</td>\n",
              "      <td>Embassy Pictures</td>\n",
              "      <td>...</td>\n",
              "      <td>Swamp Thing</td>\n",
              "      <td>NaN</td>\n",
              "      <td>NaN</td>\n",
              "      <td>60</td>\n",
              "      <td>Male</td>\n",
              "      <td>1982</td>\n",
              "      <td>NaN</td>\n",
              "      <td>$9,458,928</td>\n",
              "      <td>$7,500,000</td>\n",
              "      <td>NaN</td>\n",
              "    </tr>\n",
              "    <tr>\n",
              "      <th>4</th>\n",
              "      <td>Superman III</td>\n",
              "      <td>17 June 1983</td>\n",
              "      <td>$59,950,623</td>\n",
              "      <td>$20,300,000</td>\n",
              "      <td>$80,250,623</td>\n",
              "      <td>$39,000,000</td>\n",
              "      <td>PG</td>\n",
              "      <td>02:05:00</td>\n",
              "      <td>125</td>\n",
              "      <td>Warner Bros.</td>\n",
              "      <td>...</td>\n",
              "      <td>Superman</td>\n",
              "      <td>75%</td>\n",
              "      <td>2.06</td>\n",
              "      <td>29</td>\n",
              "      <td>Male</td>\n",
              "      <td>1983</td>\n",
              "      <td>$245,152,923</td>\n",
              "      <td>$119,138,813</td>\n",
              "      <td>$97,500,000</td>\n",
              "      <td>Flop</td>\n",
              "    </tr>\n",
              "  </tbody>\n",
              "</table>\n",
              "<p>5 rows × 21 columns</p>\n",
              "</div>\n",
              "    <div class=\"colab-df-buttons\">\n",
              "\n",
              "  <div class=\"colab-df-container\">\n",
              "    <button class=\"colab-df-convert\" onclick=\"convertToInteractive('df-0bb84c15-1282-412f-acf4-ef282dadcef2')\"\n",
              "            title=\"Convert this dataframe to an interactive table.\"\n",
              "            style=\"display:none;\">\n",
              "\n",
              "  <svg xmlns=\"http://www.w3.org/2000/svg\" height=\"24px\" viewBox=\"0 -960 960 960\">\n",
              "    <path d=\"M120-120v-720h720v720H120Zm60-500h600v-160H180v160Zm220 220h160v-160H400v160Zm0 220h160v-160H400v160ZM180-400h160v-160H180v160Zm440 0h160v-160H620v160ZM180-180h160v-160H180v160Zm440 0h160v-160H620v160Z\"/>\n",
              "  </svg>\n",
              "    </button>\n",
              "\n",
              "  <style>\n",
              "    .colab-df-container {\n",
              "      display:flex;\n",
              "      gap: 12px;\n",
              "    }\n",
              "\n",
              "    .colab-df-convert {\n",
              "      background-color: #E8F0FE;\n",
              "      border: none;\n",
              "      border-radius: 50%;\n",
              "      cursor: pointer;\n",
              "      display: none;\n",
              "      fill: #1967D2;\n",
              "      height: 32px;\n",
              "      padding: 0 0 0 0;\n",
              "      width: 32px;\n",
              "    }\n",
              "\n",
              "    .colab-df-convert:hover {\n",
              "      background-color: #E2EBFA;\n",
              "      box-shadow: 0px 1px 2px rgba(60, 64, 67, 0.3), 0px 1px 3px 1px rgba(60, 64, 67, 0.15);\n",
              "      fill: #174EA6;\n",
              "    }\n",
              "\n",
              "    .colab-df-buttons div {\n",
              "      margin-bottom: 4px;\n",
              "    }\n",
              "\n",
              "    [theme=dark] .colab-df-convert {\n",
              "      background-color: #3B4455;\n",
              "      fill: #D2E3FC;\n",
              "    }\n",
              "\n",
              "    [theme=dark] .colab-df-convert:hover {\n",
              "      background-color: #434B5C;\n",
              "      box-shadow: 0px 1px 3px 1px rgba(0, 0, 0, 0.15);\n",
              "      filter: drop-shadow(0px 1px 2px rgba(0, 0, 0, 0.3));\n",
              "      fill: #FFFFFF;\n",
              "    }\n",
              "  </style>\n",
              "\n",
              "    <script>\n",
              "      const buttonEl =\n",
              "        document.querySelector('#df-0bb84c15-1282-412f-acf4-ef282dadcef2 button.colab-df-convert');\n",
              "      buttonEl.style.display =\n",
              "        google.colab.kernel.accessAllowed ? 'block' : 'none';\n",
              "\n",
              "      async function convertToInteractive(key) {\n",
              "        const element = document.querySelector('#df-0bb84c15-1282-412f-acf4-ef282dadcef2');\n",
              "        const dataTable =\n",
              "          await google.colab.kernel.invokeFunction('convertToInteractive',\n",
              "                                                    [key], {});\n",
              "        if (!dataTable) return;\n",
              "\n",
              "        const docLinkHtml = 'Like what you see? Visit the ' +\n",
              "          '<a target=\"_blank\" href=https://colab.research.google.com/notebooks/data_table.ipynb>data table notebook</a>'\n",
              "          + ' to learn more about interactive tables.';\n",
              "        element.innerHTML = '';\n",
              "        dataTable['output_type'] = 'display_data';\n",
              "        await google.colab.output.renderOutput(dataTable, element);\n",
              "        const docLink = document.createElement('div');\n",
              "        docLink.innerHTML = docLinkHtml;\n",
              "        element.appendChild(docLink);\n",
              "      }\n",
              "    </script>\n",
              "  </div>\n",
              "\n",
              "\n",
              "<div id=\"df-721afab7-f938-4f7b-8c6e-98879c76e52c\">\n",
              "  <button class=\"colab-df-quickchart\" onclick=\"quickchart('df-721afab7-f938-4f7b-8c6e-98879c76e52c')\"\n",
              "            title=\"Suggest charts\"\n",
              "            style=\"display:none;\">\n",
              "\n",
              "<svg xmlns=\"http://www.w3.org/2000/svg\" height=\"24px\"viewBox=\"0 0 24 24\"\n",
              "     width=\"24px\">\n",
              "    <g>\n",
              "        <path d=\"M19 3H5c-1.1 0-2 .9-2 2v14c0 1.1.9 2 2 2h14c1.1 0 2-.9 2-2V5c0-1.1-.9-2-2-2zM9 17H7v-7h2v7zm4 0h-2V7h2v10zm4 0h-2v-4h2v4z\"/>\n",
              "    </g>\n",
              "</svg>\n",
              "  </button>\n",
              "\n",
              "<style>\n",
              "  .colab-df-quickchart {\n",
              "      --bg-color: #E8F0FE;\n",
              "      --fill-color: #1967D2;\n",
              "      --hover-bg-color: #E2EBFA;\n",
              "      --hover-fill-color: #174EA6;\n",
              "      --disabled-fill-color: #AAA;\n",
              "      --disabled-bg-color: #DDD;\n",
              "  }\n",
              "\n",
              "  [theme=dark] .colab-df-quickchart {\n",
              "      --bg-color: #3B4455;\n",
              "      --fill-color: #D2E3FC;\n",
              "      --hover-bg-color: #434B5C;\n",
              "      --hover-fill-color: #FFFFFF;\n",
              "      --disabled-bg-color: #3B4455;\n",
              "      --disabled-fill-color: #666;\n",
              "  }\n",
              "\n",
              "  .colab-df-quickchart {\n",
              "    background-color: var(--bg-color);\n",
              "    border: none;\n",
              "    border-radius: 50%;\n",
              "    cursor: pointer;\n",
              "    display: none;\n",
              "    fill: var(--fill-color);\n",
              "    height: 32px;\n",
              "    padding: 0;\n",
              "    width: 32px;\n",
              "  }\n",
              "\n",
              "  .colab-df-quickchart:hover {\n",
              "    background-color: var(--hover-bg-color);\n",
              "    box-shadow: 0 1px 2px rgba(60, 64, 67, 0.3), 0 1px 3px 1px rgba(60, 64, 67, 0.15);\n",
              "    fill: var(--button-hover-fill-color);\n",
              "  }\n",
              "\n",
              "  .colab-df-quickchart-complete:disabled,\n",
              "  .colab-df-quickchart-complete:disabled:hover {\n",
              "    background-color: var(--disabled-bg-color);\n",
              "    fill: var(--disabled-fill-color);\n",
              "    box-shadow: none;\n",
              "  }\n",
              "\n",
              "  .colab-df-spinner {\n",
              "    border: 2px solid var(--fill-color);\n",
              "    border-color: transparent;\n",
              "    border-bottom-color: var(--fill-color);\n",
              "    animation:\n",
              "      spin 1s steps(1) infinite;\n",
              "  }\n",
              "\n",
              "  @keyframes spin {\n",
              "    0% {\n",
              "      border-color: transparent;\n",
              "      border-bottom-color: var(--fill-color);\n",
              "      border-left-color: var(--fill-color);\n",
              "    }\n",
              "    20% {\n",
              "      border-color: transparent;\n",
              "      border-left-color: var(--fill-color);\n",
              "      border-top-color: var(--fill-color);\n",
              "    }\n",
              "    30% {\n",
              "      border-color: transparent;\n",
              "      border-left-color: var(--fill-color);\n",
              "      border-top-color: var(--fill-color);\n",
              "      border-right-color: var(--fill-color);\n",
              "    }\n",
              "    40% {\n",
              "      border-color: transparent;\n",
              "      border-right-color: var(--fill-color);\n",
              "      border-top-color: var(--fill-color);\n",
              "    }\n",
              "    60% {\n",
              "      border-color: transparent;\n",
              "      border-right-color: var(--fill-color);\n",
              "    }\n",
              "    80% {\n",
              "      border-color: transparent;\n",
              "      border-right-color: var(--fill-color);\n",
              "      border-bottom-color: var(--fill-color);\n",
              "    }\n",
              "    90% {\n",
              "      border-color: transparent;\n",
              "      border-bottom-color: var(--fill-color);\n",
              "    }\n",
              "  }\n",
              "</style>\n",
              "\n",
              "  <script>\n",
              "    async function quickchart(key) {\n",
              "      const quickchartButtonEl =\n",
              "        document.querySelector('#' + key + ' button');\n",
              "      quickchartButtonEl.disabled = true;  // To prevent multiple clicks.\n",
              "      quickchartButtonEl.classList.add('colab-df-spinner');\n",
              "      try {\n",
              "        const charts = await google.colab.kernel.invokeFunction(\n",
              "            'suggestCharts', [key], {});\n",
              "      } catch (error) {\n",
              "        console.error('Error during call to suggestCharts:', error);\n",
              "      }\n",
              "      quickchartButtonEl.classList.remove('colab-df-spinner');\n",
              "      quickchartButtonEl.classList.add('colab-df-quickchart-complete');\n",
              "    }\n",
              "    (() => {\n",
              "      let quickchartButtonEl =\n",
              "        document.querySelector('#df-721afab7-f938-4f7b-8c6e-98879c76e52c button');\n",
              "      quickchartButtonEl.style.display =\n",
              "        google.colab.kernel.accessAllowed ? 'block' : 'none';\n",
              "    })();\n",
              "  </script>\n",
              "</div>\n",
              "\n",
              "    </div>\n",
              "  </div>\n"
            ]
          },
          "metadata": {},
          "execution_count": 30
        }
      ]
    },
    {
      "cell_type": "code",
      "source": [
        "df.dtypes"
      ],
      "metadata": {
        "colab": {
          "base_uri": "https://localhost:8080/"
        },
        "id": "hz_thvsYfS6B",
        "outputId": "fc85003e-190a-43e0-dc81-afa694bd35bd"
      },
      "execution_count": 32,
      "outputs": [
        {
          "output_type": "execute_result",
          "data": {
            "text/plain": [
              "Film                                             object\n",
              "U.S. release date                                object\n",
              "Box office gross Domestic (U.S. and Canada )     object\n",
              "Box office gross Other territories               object\n",
              "Box office gross Worldwide                       object\n",
              "Budget                                           object\n",
              "MPAA Rating                                      object\n",
              "Length                                           object\n",
              "Minutes                                           int64\n",
              "Distributor                                      object\n",
              "Source                                           object\n",
              "Character Family                                 object\n",
              "Domestic %                                       object\n",
              "Gross to Budget                                 float64\n",
              "Rotten Tomatoes Critic Score                      int64\n",
              "Male/Female-led                                  object\n",
              "Year                                              int64\n",
              "Inflation Adjusted Worldwide Gross               object\n",
              "Inflation Adjusted Budget                        object\n",
              "2.5x prod                                        object\n",
              "Break Even                                       object\n",
              "dtype: object"
            ]
          },
          "metadata": {},
          "execution_count": 32
        }
      ]
    },
    {
      "cell_type": "code",
      "source": [
        "# Calculate descriptive statistics using SciPy\n",
        "mean_value = df['Rotten Tomatoes Critic Score'].mean()\n",
        "print(\"Mean:\", mean_value)\n",
        "\n",
        "median_value = df['Rotten Tomatoes Critic Score'].median()\n",
        "print(\"Median:\", median_value)\n",
        "\n",
        "variance_value = df['Rotten Tomatoes Critic Score'].var()\n",
        "print(\"Variance:\", variance_value)\n",
        "\n",
        "std_deviation_value = df['Rotten Tomatoes Critic Score'].std()\n",
        "print(\"Standard Deviation:\", std_deviation_value)"
      ],
      "metadata": {
        "colab": {
          "base_uri": "https://localhost:8080/"
        },
        "id": "4pqEKwvZbLcj",
        "outputId": "6f064828-c4e5-4aa2-e831-a36c6d8ecaf5"
      },
      "execution_count": 36,
      "outputs": [
        {
          "output_type": "stream",
          "name": "stdout",
          "text": [
            "Mean: 58.714285714285715\n",
            "Median: 65.5\n",
            "Variance: 813.184668989547\n",
            "Standard Deviation: 28.516392987009194\n"
          ]
        }
      ]
    },
    {
      "cell_type": "markdown",
      "source": [
        "🌟 Exercise 6 : Advanced Statistical Functions\n",
        "\n",
        "Task: Explore one advanced statistical function in SciPy and demonstrate its use with an example.\n",
        "\n",
        "Sample Task: Calculate kurtosis and skewness of a dataset."
      ],
      "metadata": {
        "id": "XBgy0v0cgTZr"
      }
    },
    {
      "cell_type": "code",
      "source": [
        "data = np.random.normal(0, 1, 1000)"
      ],
      "metadata": {
        "id": "gk-aV7sPbH2j"
      },
      "execution_count": 37,
      "outputs": []
    },
    {
      "cell_type": "code",
      "source": [
        "# Calculate kurtosis and skewness using SciPy\n",
        "kurtosis_value = kurtosis(data)\n",
        "print(\"Kurtosis:\", kurtosis_value)\n",
        "\n",
        "skewness_value = skew(data)\n",
        "print(\"Skewness:\", skewness_value)"
      ],
      "metadata": {
        "colab": {
          "base_uri": "https://localhost:8080/"
        },
        "id": "XSs3qDsYgcrv",
        "outputId": "6a24a063-31c1-4f69-b188-3ba69429f835"
      },
      "execution_count": 39,
      "outputs": [
        {
          "output_type": "stream",
          "name": "stdout",
          "text": [
            "Kurtosis: 0.0962426455486689\n",
            "Skewness: 0.011362317926249832\n"
          ]
        }
      ]
    },
    {
      "cell_type": "code",
      "source": [],
      "metadata": {
        "id": "wiazzFnrgmyZ"
      },
      "execution_count": null,
      "outputs": []
    }
  ]
}

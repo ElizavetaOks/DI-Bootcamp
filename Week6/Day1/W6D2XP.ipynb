{
  "nbformat": 4,
  "nbformat_minor": 0,
  "metadata": {
    "colab": {
      "provenance": []
    },
    "kernelspec": {
      "name": "python3",
      "display_name": "Python 3"
    },
    "language_info": {
      "name": "python"
    }
  },
  "cells": [
    {
      "cell_type": "code",
      "source": [
        "import pandas as pd\n",
        "import numpy as np\n",
        "import matplotlib.pyplot as plt\n",
        "from scipy.stats import ttest_rel"
      ],
      "metadata": {
        "id": "_l_yk9OI_Stm"
      },
      "execution_count": 39,
      "outputs": []
    },
    {
      "cell_type": "markdown",
      "source": [
        "🌟 Exercise 1 : Matrix Operations\n",
        "\n",
        "Create a 3x3 matrix and perform the following operations:\n",
        "1. Calculate the determinant.\n",
        "2. Find the inverse of the matrix."
      ],
      "metadata": {
        "id": "EpMPNiM0_XQq"
      }
    },
    {
      "cell_type": "code",
      "source": [
        "matrix = np.array([\n",
        "    [12, 1, 23],\n",
        "    [10, -17, 32],\n",
        "    [19, 41, 60]\n",
        "])\n",
        "\n",
        "# 1. Calculate the determinant\n",
        "determinant = np.linalg.det(matrix)\n",
        "print(f\"Determinant: {determinant:.1f}\")\n",
        "\n",
        "# 2. Find the inverse of the matrix\n",
        "inverse_matrix = np.linalg.inv(matrix)\n",
        "print(\"Inverse Matrix:\")\n",
        "print(inverse_matrix)\n"
      ],
      "metadata": {
        "colab": {
          "base_uri": "https://localhost:8080/"
        },
        "id": "p8iFkquy_7oi",
        "outputId": "a3f79b9e-7500-4264-9a2f-d8d237cc0c16"
      },
      "execution_count": 5,
      "outputs": [
        {
          "output_type": "stream",
          "name": "stdout",
          "text": [
            "Determinant: -11117.0\n",
            "Inverse Matrix:\n",
            "[[ 0.20976882 -0.0794279  -0.03804983]\n",
            " [-0.00071962 -0.02545651  0.01385266]\n",
            " [-0.06593505  0.04254745  0.0192498 ]]\n"
          ]
        }
      ]
    },
    {
      "cell_type": "markdown",
      "source": [
        "🌟 Exercise 2 : Statistical Analysis\n",
        "\n",
        "Using NumPy, generate an array of 50 random numbers and compute:\n",
        "1. The mean and median.\n",
        "2. The standard deviation."
      ],
      "metadata": {
        "id": "m-mH0Z-sBzea"
      }
    },
    {
      "cell_type": "code",
      "source": [
        "random_num = np.random.rand(50)\n",
        "print(f\"Generated Random Numbers: \\n{random_num}\")\n",
        "\n",
        "# 1. Calculate the mean and median\n",
        "mean_value = np.mean(random_num)\n",
        "print(f\"Mean: {mean_value:.2f}\")\n",
        "\n",
        "median_value = np.median(random_num)\n",
        "print(f\"Median: {median_value:.2f}\")\n",
        "\n",
        "# 2. Calculate the standard deviation\n",
        "std_deviation = np.std(random_num)\n",
        "print(f\"Standard Deviation: {std_deviation:.2f}\")"
      ],
      "metadata": {
        "colab": {
          "base_uri": "https://localhost:8080/"
        },
        "id": "xna87Xt6_9iP",
        "outputId": "5d0efb06-a599-407a-9d2b-c50df11dbaad"
      },
      "execution_count": 10,
      "outputs": [
        {
          "output_type": "stream",
          "name": "stdout",
          "text": [
            "Generated Random Numbers: \n",
            "[0.35045019 0.14512791 0.60019737 0.29420958 0.70409866 0.16477715\n",
            " 0.16020777 0.69903396 0.14622872 0.44649872 0.08356023 0.32033812\n",
            " 0.72637953 0.80979488 0.44324701 0.02931817 0.85695389 0.28926815\n",
            " 0.73096305 0.49939682 0.32148196 0.27425893 0.93059055 0.19769704\n",
            " 0.03967364 0.70341541 0.86452535 0.6735212  0.52457523 0.32141601\n",
            " 0.89449831 0.88187037 0.44780516 0.36702302 0.52331007 0.98109825\n",
            " 0.57981279 0.06169257 0.57990434 0.27541518 0.9942275  0.37853038\n",
            " 0.77423401 0.42552007 0.13675049 0.69009935 0.79727055 0.07039057\n",
            " 0.08745195 0.84885221]\n",
            "Mean: 0.48\n",
            "Median: 0.45\n",
            "Standard Deviation: 0.29\n"
          ]
        }
      ]
    },
    {
      "cell_type": "markdown",
      "source": [
        "🌟 Exercise 3 : Date Manipulation\n",
        "\n",
        "Create a NumPy array of dates for the month of January 2024. Convert these dates to another format (e.g., YYYY/MM/DD)."
      ],
      "metadata": {
        "id": "tFICNILgEXW8"
      }
    },
    {
      "cell_type": "code",
      "source": [
        "# Create a NumPy array of dates for the month of January 2024\n",
        "dates = np.arange('2024-01', '2024-02', dtype='datetime64[D]')\n",
        "print(\"January 2024 Dates:\\n\", dates)\n",
        "\n",
        "# Convert dates to another format (e.g., YYYY/MM/DD)\n",
        "formatted_dates = np.datetime_as_string(dates, unit='D').astype(str)\n",
        "formatted_dates = [f\"{d[8:10]}-{d[5:7]}-{d[0:4]}\" for d in formatted_dates]\n",
        "print(\"Formatted Dates:\\n\", formatted_dates)\n"
      ],
      "metadata": {
        "colab": {
          "base_uri": "https://localhost:8080/"
        },
        "id": "GfYPQXJxCToo",
        "outputId": "0cf7cb31-5052-4930-9be3-91b8406b8790"
      },
      "execution_count": 23,
      "outputs": [
        {
          "output_type": "stream",
          "name": "stdout",
          "text": [
            "January 2024 Dates:\n",
            " ['2024-01-01' '2024-01-02' '2024-01-03' '2024-01-04' '2024-01-05'\n",
            " '2024-01-06' '2024-01-07' '2024-01-08' '2024-01-09' '2024-01-10'\n",
            " '2024-01-11' '2024-01-12' '2024-01-13' '2024-01-14' '2024-01-15'\n",
            " '2024-01-16' '2024-01-17' '2024-01-18' '2024-01-19' '2024-01-20'\n",
            " '2024-01-21' '2024-01-22' '2024-01-23' '2024-01-24' '2024-01-25'\n",
            " '2024-01-26' '2024-01-27' '2024-01-28' '2024-01-29' '2024-01-30'\n",
            " '2024-01-31']\n",
            "Formatted Dates:\n",
            " ['01-01-2024', '02-01-2024', '03-01-2024', '04-01-2024', '05-01-2024', '06-01-2024', '07-01-2024', '08-01-2024', '09-01-2024', '10-01-2024', '11-01-2024', '12-01-2024', '13-01-2024', '14-01-2024', '15-01-2024', '16-01-2024', '17-01-2024', '18-01-2024', '19-01-2024', '20-01-2024', '21-01-2024', '22-01-2024', '23-01-2024', '24-01-2024', '25-01-2024', '26-01-2024', '27-01-2024', '28-01-2024', '29-01-2024', '30-01-2024', '31-01-2024']\n"
          ]
        }
      ]
    },
    {
      "cell_type": "markdown",
      "source": [
        "🌟 Exercise 4 : Data Manipulation With NumPy And Pandas\n",
        "\n",
        "Create a DataFrame with random numbers and perform:\n",
        "1. Conditional selection of data.\n",
        "2. Aggregation functions like sum and average."
      ],
      "metadata": {
        "id": "hr_fTA_wUCzL"
      }
    },
    {
      "cell_type": "code",
      "source": [
        "# Create a DataFrame with random numbers\n",
        "data = np.random.randint(1, 100, size=(10, 5))\n",
        "columns = ['A', 'B', 'C', 'D', 'E']\n",
        "df = pd.DataFrame(data, columns=columns)\n",
        "print(df)\n"
      ],
      "metadata": {
        "colab": {
          "base_uri": "https://localhost:8080/"
        },
        "id": "8nnUNGRaEmqw",
        "outputId": "0bfda9b3-ed13-458a-a6d8-e65b580966c4"
      },
      "execution_count": 26,
      "outputs": [
        {
          "output_type": "stream",
          "name": "stdout",
          "text": [
            "    A   B   C   D   E\n",
            "0  26  30  69  73  15\n",
            "1  96  49   1  80  10\n",
            "2  77   9   8  66  70\n",
            "3  37   7  71  61  54\n",
            "4  22  49   4  21  20\n",
            "5  43  82   4  52  24\n",
            "6   8  54   5  68  92\n",
            "7  37  59  90   1  80\n",
            "8  64  84  23  96  92\n",
            "9  47  96  60  90  85\n"
          ]
        }
      ]
    },
    {
      "cell_type": "code",
      "source": [
        "# 1. Conditional selection of data\n",
        "selected_data = df[df['B'] > 61]\n",
        "\n",
        "print(selected_data)"
      ],
      "metadata": {
        "colab": {
          "base_uri": "https://localhost:8080/"
        },
        "id": "0lskMBKTUz-g",
        "outputId": "899e7e9b-7531-46e5-b7f3-556f31ade1fa"
      },
      "execution_count": 27,
      "outputs": [
        {
          "output_type": "stream",
          "name": "stdout",
          "text": [
            "    A   B   C   D   E\n",
            "5  43  82   4  52  24\n",
            "8  64  84  23  96  92\n",
            "9  47  96  60  90  85\n"
          ]
        }
      ]
    },
    {
      "cell_type": "code",
      "source": [
        "# 2. Aggregation functions: sum and average\n",
        "sum_values = df.sum()\n",
        "print('Sum of values\\n', sum_values)\n",
        "\n",
        "average_values = df.mean()\n",
        "print('Mean values\\n', average_values)"
      ],
      "metadata": {
        "colab": {
          "base_uri": "https://localhost:8080/"
        },
        "id": "RSAGBlklU-Ky",
        "outputId": "1e5787ba-733f-4369-e70e-380d85f83baf"
      },
      "execution_count": 32,
      "outputs": [
        {
          "output_type": "stream",
          "name": "stdout",
          "text": [
            "Sum of values\n",
            " A    457\n",
            "B    519\n",
            "C    335\n",
            "D    608\n",
            "E    542\n",
            "dtype: int64\n",
            "Mean values\n",
            " A    45.7\n",
            "B    51.9\n",
            "C    33.5\n",
            "D    60.8\n",
            "E    54.2\n",
            "dtype: float64\n"
          ]
        }
      ]
    },
    {
      "cell_type": "markdown",
      "source": [
        "🌟 Exercise 5 : Image Representation\n",
        "\n",
        "Explain how images are represented in NumPy arrays and demonstrate with a simple example (e.g., creating a 5x5 grayscale image)."
      ],
      "metadata": {
        "id": "YpQP2l21WFzg"
      }
    },
    {
      "cell_type": "markdown",
      "source": [
        "Images are often represented in NumPy arrays as multi-dimensional arrays, where each element of the array corresponds to a pixel in the image. The shape of the array depends on whether the image is grayscale or color. For a grayscale image, it's a 2D array (height x width), and for a color image, it's a 3D array (height x width x channels), where channels typically represent Red, Green, and Blue (RGB) values."
      ],
      "metadata": {
        "id": "K7Unup6nW0Lt"
      }
    },
    {
      "cell_type": "code",
      "source": [
        "# Create a 5x5 grayscale image\n",
        "image_data = np.array([\n",
        "    [50, 100, 150, 200, 255],\n",
        "    [30, 80, 120, 180, 220],\n",
        "    [20, 60, 110, 160, 210],\n",
        "    [10, 40, 90, 140, 190],\n",
        "    [0, 25, 70, 120, 170]\n",
        "], dtype=np.uint8)\n",
        "\n",
        "# Display the image\n",
        "plt.imshow(image_data, cmap='gray', vmin=0, vmax=255)\n",
        "plt.title(\"Grayscale Image (5x5)\")\n",
        "plt.colorbar()\n",
        "plt.show()"
      ],
      "metadata": {
        "colab": {
          "base_uri": "https://localhost:8080/",
          "height": 452
        },
        "id": "4GIA6V4jVF0r",
        "outputId": "5949e38c-d088-4cf2-edcd-686e5e8858fc"
      },
      "execution_count": 36,
      "outputs": [
        {
          "output_type": "display_data",
          "data": {
            "text/plain": [
              "<Figure size 640x480 with 2 Axes>"
            ],
            "image/png": "[encoded data removed]"
          },
          "metadata": {}
        }
      ]
    },
    {
      "cell_type": "markdown",
      "source": [
        "🌟 Exercise 6 : Basic Hypothesis Testing\n",
        "\n",
        "Create a sample dataset to test the effectiveness of a new training program on employee productivity:"
      ],
      "metadata": {
        "id": "ugRZ2AAeYxSn"
      }
    },
    {
      "cell_type": "code",
      "source": [
        "# Productivity scores of employees before the training program\n",
        "productivity_before = np.random.normal(loc=50, scale=10, size=30)\n",
        "\n",
        "# Productivity scores of the same employees after the training program\n",
        "productivity_after = productivity_before + np.random.normal(loc=5, scale=3, size=30)\n",
        "\n",
        "# Your task is to formulate a hypothesis regarding the training program's effectiveness\n",
        "# and test it using basic statistical functions in NumPy."
      ],
      "metadata": {
        "id": "lm0R8MTrW7Wr"
      },
      "execution_count": 37,
      "outputs": []
    },
    {
      "cell_type": "markdown",
      "source": [
        "**Null Hypothesis (H0):** The training program has no effect on employee productivity. The mean productivity scores before and after the training program are the same.\n",
        "\n",
        "**Alternative Hypothesis (H1):** The training program has a positive effect on employee productivity. The mean productivity scores after the training program are significantly higher than before."
      ],
      "metadata": {
        "id": "b8JcZZ7kZMhg"
      }
    },
    {
      "cell_type": "code",
      "source": [
        "# Perform paired-sample t-test\n",
        "t_statistic, p_value = ttest_rel(productivity_after, productivity_before)\n",
        "\n",
        "# Display the results\n",
        "print(f\"T-statistic: {t_statistic:.2f}\")\n",
        "print(f\"P-value: {p_value:.2f}\")"
      ],
      "metadata": {
        "colab": {
          "base_uri": "https://localhost:8080/"
        },
        "id": "NfQnzI4xY9DT",
        "outputId": "4b3adf3f-a2ed-4220-8b97-76c9896f81ec"
      },
      "execution_count": 41,
      "outputs": [
        {
          "output_type": "stream",
          "name": "stdout",
          "text": [
            "T-statistic: 8.43\n",
            "P-value: 0.00\n"
          ]
        }
      ]
    },
    {
      "cell_type": "code",
      "source": [
        "# Determine whether to reject the null hypothesis\n",
        "alpha = 0.05\n",
        "if p_value < alpha:\n",
        "    print(\"Reject the null hypothesis. The training program has a significant positive effect.\")\n",
        "else:\n",
        "    print(\"Reject the alternative hypothesis. There is not enough evidence of a significant positive effect.\")"
      ],
      "metadata": {
        "colab": {
          "base_uri": "https://localhost:8080/"
        },
        "id": "cPqjewK9ZqWV",
        "outputId": "5ead5a66-b0ae-4f57-b820-b233063ce2bd"
      },
      "execution_count": 42,
      "outputs": [
        {
          "output_type": "stream",
          "name": "stdout",
          "text": [
            "Reject the null hypothesis. The training program has a significant positive effect.\n"
          ]
        }
      ]
    },
    {
      "cell_type": "markdown",
      "source": [
        "🌟 Exercise 7 : Complex Array Comparison\n",
        "\n",
        "Create two arrays and perform element-wise comparison to find which elements are greater in the first array.\n",
        "\n",
        "The expected output is a boolean array showing which elements in the first array are greater than the corresponding elements in the second array."
      ],
      "metadata": {
        "id": "5DnjIqx0bnIb"
      }
    },
    {
      "cell_type": "code",
      "source": [
        "array1 = np.array([1, 5, 8, 10, 3])\n",
        "array2 = np.array([2, 4, 6, 9, 2])"
      ],
      "metadata": {
        "id": "j5411Zp9anr_"
      },
      "execution_count": 44,
      "outputs": []
    },
    {
      "cell_type": "code",
      "source": [
        "# Perform element-wise comparison\n",
        "greater_elements = array1 > array2\n",
        "\n",
        "print(greater_elements)"
      ],
      "metadata": {
        "colab": {
          "base_uri": "https://localhost:8080/"
        },
        "id": "5tJ6HFGecPTp",
        "outputId": "a85c8711-bcbb-4d2d-d675-0827bb9051fe"
      },
      "execution_count": 46,
      "outputs": [
        {
          "output_type": "stream",
          "name": "stdout",
          "text": [
            "[False  True  True  True  True]\n"
          ]
        }
      ]
    },
    {
      "cell_type": "markdown",
      "source": [
        "🌟 Exercise 8 : Time Series Data Manipulation\n",
        "\n",
        "Generate time series data for the year 2023. Demonstrate slicing for the following intervals:\n",
        "*   January to March\n",
        "*   April to June\n",
        "*   July to September\n",
        "*   October to December\n",
        "\n",
        "Generate a time series data for a specific period and demonstrate how to slice this data for different intervals."
      ],
      "metadata": {
        "id": "DXg1ca3vce3B"
      }
    },
    {
      "cell_type": "code",
      "source": [
        "# Generate time series data for the year 2023\n",
        "year_2023_dates = np.arange('2023-01', '2024-01', dtype='datetime64[D]')\n",
        "\n",
        "print(year_2023_dates)"
      ],
      "metadata": {
        "colab": {
          "base_uri": "https://localhost:8080/"
        },
        "id": "pGQCftIDcWZM",
        "outputId": "21a4ec49-43b9-49cd-816d-308f5f02710a"
      },
      "execution_count": 58,
      "outputs": [
        {
          "output_type": "stream",
          "name": "stdout",
          "text": [
            "['2023-01-01' '2023-01-02' '2023-01-03' '2023-01-04' '2023-01-05'\n",
            " '2023-01-06' '2023-01-07' '2023-01-08' '2023-01-09' '2023-01-10'\n",
            " '2023-01-11' '2023-01-12' '2023-01-13' '2023-01-14' '2023-01-15'\n",
            " '2023-01-16' '2023-01-17' '2023-01-18' '2023-01-19' '2023-01-20'\n",
            " '2023-01-21' '2023-01-22' '2023-01-23' '2023-01-24' '2023-01-25'\n",
            " '2023-01-26' '2023-01-27' '2023-01-28' '2023-01-29' '2023-01-30'\n",
            " '2023-01-31' '2023-02-01' '2023-02-02' '2023-02-03' '2023-02-04'\n",
            " '2023-02-05' '2023-02-06' '2023-02-07' '2023-02-08' '2023-02-09'\n",
            " '2023-02-10' '2023-02-11' '2023-02-12' '2023-02-13' '2023-02-14'\n",
            " '2023-02-15' '2023-02-16' '2023-02-17' '2023-02-18' '2023-02-19'\n",
            " '2023-02-20' '2023-02-21' '2023-02-22' '2023-02-23' '2023-02-24'\n",
            " '2023-02-25' '2023-02-26' '2023-02-27' '2023-02-28' '2023-03-01'\n",
            " '2023-03-02' '2023-03-03' '2023-03-04' '2023-03-05' '2023-03-06'\n",
            " '2023-03-07' '2023-03-08' '2023-03-09' '2023-03-10' '2023-03-11'\n",
            " '2023-03-12' '2023-03-13' '2023-03-14' '2023-03-15' '2023-03-16'\n",
            " '2023-03-17' '2023-03-18' '2023-03-19' '2023-03-20' '2023-03-21'\n",
            " '2023-03-22' '2023-03-23' '2023-03-24' '2023-03-25' '2023-03-26'\n",
            " '2023-03-27' '2023-03-28' '2023-03-29' '2023-03-30' '2023-03-31'\n",
            " '2023-04-01' '2023-04-02' '2023-04-03' '2023-04-04' '2023-04-05'\n",
            " '2023-04-06' '2023-04-07' '2023-04-08' '2023-04-09' '2023-04-10'\n",
            " '2023-04-11' '2023-04-12' '2023-04-13' '2023-04-14' '2023-04-15'\n",
            " '2023-04-16' '2023-04-17' '2023-04-18' '2023-04-19' '2023-04-20'\n",
            " '2023-04-21' '2023-04-22' '2023-04-23' '2023-04-24' '2023-04-25'\n",
            " '2023-04-26' '2023-04-27' '2023-04-28' '2023-04-29' '2023-04-30'\n",
            " '2023-05-01' '2023-05-02' '2023-05-03' '2023-05-04' '2023-05-05'\n",
            " '2023-05-06' '2023-05-07' '2023-05-08' '2023-05-09' '2023-05-10'\n",
            " '2023-05-11' '2023-05-12' '2023-05-13' '2023-05-14' '2023-05-15'\n",
            " '2023-05-16' '2023-05-17' '2023-05-18' '2023-05-19' '2023-05-20'\n",
            " '2023-05-21' '2023-05-22' '2023-05-23' '2023-05-24' '2023-05-25'\n",
            " '2023-05-26' '2023-05-27' '2023-05-28' '2023-05-29' '2023-05-30'\n",
            " '2023-05-31' '2023-06-01' '2023-06-02' '2023-06-03' '2023-06-04'\n",
            " '2023-06-05' '2023-06-06' '2023-06-07' '2023-06-08' '2023-06-09'\n",
            " '2023-06-10' '2023-06-11' '2023-06-12' '2023-06-13' '2023-06-14'\n",
            " '2023-06-15' '2023-06-16' '2023-06-17' '2023-06-18' '2023-06-19'\n",
            " '2023-06-20' '2023-06-21' '2023-06-22' '2023-06-23' '2023-06-24'\n",
            " '2023-06-25' '2023-06-26' '2023-06-27' '2023-06-28' '2023-06-29'\n",
            " '2023-06-30' '2023-07-01' '2023-07-02' '2023-07-03' '2023-07-04'\n",
            " '2023-07-05' '2023-07-06' '2023-07-07' '2023-07-08' '2023-07-09'\n",
            " '2023-07-10' '2023-07-11' '2023-07-12' '2023-07-13' '2023-07-14'\n",
            " '2023-07-15' '2023-07-16' '2023-07-17' '2023-07-18' '2023-07-19'\n",
            " '2023-07-20' '2023-07-21' '2023-07-22' '2023-07-23' '2023-07-24'\n",
            " '2023-07-25' '2023-07-26' '2023-07-27' '2023-07-28' '2023-07-29'\n",
            " '2023-07-30' '2023-07-31' '2023-08-01' '2023-08-02' '2023-08-03'\n",
            " '2023-08-04' '2023-08-05' '2023-08-06' '2023-08-07' '2023-08-08'\n",
            " '2023-08-09' '2023-08-10' '2023-08-11' '2023-08-12' '2023-08-13'\n",
            " '2023-08-14' '2023-08-15' '2023-08-16' '2023-08-17' '2023-08-18'\n",
            " '2023-08-19' '2023-08-20' '2023-08-21' '2023-08-22' '2023-08-23'\n",
            " '2023-08-24' '2023-08-25' '2023-08-26' '2023-08-27' '2023-08-28'\n",
            " '2023-08-29' '2023-08-30' '2023-08-31' '2023-09-01' '2023-09-02'\n",
            " '2023-09-03' '2023-09-04' '2023-09-05' '2023-09-06' '2023-09-07'\n",
            " '2023-09-08' '2023-09-09' '2023-09-10' '2023-09-11' '2023-09-12'\n",
            " '2023-09-13' '2023-09-14' '2023-09-15' '2023-09-16' '2023-09-17'\n",
            " '2023-09-18' '2023-09-19' '2023-09-20' '2023-09-21' '2023-09-22'\n",
            " '2023-09-23' '2023-09-24' '2023-09-25' '2023-09-26' '2023-09-27'\n",
            " '2023-09-28' '2023-09-29' '2023-09-30' '2023-10-01' '2023-10-02'\n",
            " '2023-10-03' '2023-10-04' '2023-10-05' '2023-10-06' '2023-10-07'\n",
            " '2023-10-08' '2023-10-09' '2023-10-10' '2023-10-11' '2023-10-12'\n",
            " '2023-10-13' '2023-10-14' '2023-10-15' '2023-10-16' '2023-10-17'\n",
            " '2023-10-18' '2023-10-19' '2023-10-20' '2023-10-21' '2023-10-22'\n",
            " '2023-10-23' '2023-10-24' '2023-10-25' '2023-10-26' '2023-10-27'\n",
            " '2023-10-28' '2023-10-29' '2023-10-30' '2023-10-31' '2023-11-01'\n",
            " '2023-11-02' '2023-11-03' '2023-11-04' '2023-11-05' '2023-11-06'\n",
            " '2023-11-07' '2023-11-08' '2023-11-09' '2023-11-10' '2023-11-11'\n",
            " '2023-11-12' '2023-11-13' '2023-11-14' '2023-11-15' '2023-11-16'\n",
            " '2023-11-17' '2023-11-18' '2023-11-19' '2023-11-20' '2023-11-21'\n",
            " '2023-11-22' '2023-11-23' '2023-11-24' '2023-11-25' '2023-11-26'\n",
            " '2023-11-27' '2023-11-28' '2023-11-29' '2023-11-30' '2023-12-01'\n",
            " '2023-12-02' '2023-12-03' '2023-12-04' '2023-12-05' '2023-12-06'\n",
            " '2023-12-07' '2023-12-08' '2023-12-09' '2023-12-10' '2023-12-11'\n",
            " '2023-12-12' '2023-12-13' '2023-12-14' '2023-12-15' '2023-12-16'\n",
            " '2023-12-17' '2023-12-18' '2023-12-19' '2023-12-20' '2023-12-21'\n",
            " '2023-12-22' '2023-12-23' '2023-12-24' '2023-12-25' '2023-12-26'\n",
            " '2023-12-27' '2023-12-28' '2023-12-29' '2023-12-30' '2023-12-31']\n"
          ]
        }
      ]
    },
    {
      "cell_type": "code",
      "source": [
        "# Demonstrate slicing for different intervals\n",
        "jan_to_mar = year_2023_dates[(year_2023_dates < np.datetime64('2023-04'))]\n",
        "apr_to_jun = year_2023_dates[(year_2023_dates >= np.datetime64('2023-04')) & (year_2023_dates < np.datetime64('2023-07'))]\n",
        "jul_to_sep = year_2023_dates[(year_2023_dates >= np.datetime64('2023-07')) & (year_2023_dates < np.datetime64('2023-10'))]\n",
        "oct_to_dec = year_2023_dates[(year_2023_dates >= np.datetime64('2023-10'))]\n",
        "\n",
        "# Display the result\n",
        "print(\"January to March:\")\n",
        "print(jan_to_mar)\n",
        "\n",
        "print(\"\\nApril to June:\")\n",
        "print(apr_to_jun)\n",
        "\n",
        "print(\"\\nJuly to September:\")\n",
        "print(jul_to_sep)\n",
        "\n",
        "print(\"\\nOctober to December:\")\n",
        "print(oct_to_dec)"
      ],
      "metadata": {
        "colab": {
          "base_uri": "https://localhost:8080/"
        },
        "id": "08MRQ5ZGddCZ",
        "outputId": "fe45e936-0efb-42a9-aa6b-49367443f7b8"
      },
      "execution_count": 68,
      "outputs": [
        {
          "output_type": "stream",
          "name": "stdout",
          "text": [
            "January to March:\n",
            "['2023-01-01' '2023-01-02' '2023-01-03' '2023-01-04' '2023-01-05'\n",
            " '2023-01-06' '2023-01-07' '2023-01-08' '2023-01-09' '2023-01-10'\n",
            " '2023-01-11' '2023-01-12' '2023-01-13' '2023-01-14' '2023-01-15'\n",
            " '2023-01-16' '2023-01-17' '2023-01-18' '2023-01-19' '2023-01-20'\n",
            " '2023-01-21' '2023-01-22' '2023-01-23' '2023-01-24' '2023-01-25'\n",
            " '2023-01-26' '2023-01-27' '2023-01-28' '2023-01-29' '2023-01-30'\n",
            " '2023-01-31' '2023-02-01' '2023-02-02' '2023-02-03' '2023-02-04'\n",
            " '2023-02-05' '2023-02-06' '2023-02-07' '2023-02-08' '2023-02-09'\n",
            " '2023-02-10' '2023-02-11' '2023-02-12' '2023-02-13' '2023-02-14'\n",
            " '2023-02-15' '2023-02-16' '2023-02-17' '2023-02-18' '2023-02-19'\n",
            " '2023-02-20' '2023-02-21' '2023-02-22' '2023-02-23' '2023-02-24'\n",
            " '2023-02-25' '2023-02-26' '2023-02-27' '2023-02-28' '2023-03-01'\n",
            " '2023-03-02' '2023-03-03' '2023-03-04' '2023-03-05' '2023-03-06'\n",
            " '2023-03-07' '2023-03-08' '2023-03-09' '2023-03-10' '2023-03-11'\n",
            " '2023-03-12' '2023-03-13' '2023-03-14' '2023-03-15' '2023-03-16'\n",
            " '2023-03-17' '2023-03-18' '2023-03-19' '2023-03-20' '2023-03-21'\n",
            " '2023-03-22' '2023-03-23' '2023-03-24' '2023-03-25' '2023-03-26'\n",
            " '2023-03-27' '2023-03-28' '2023-03-29' '2023-03-30' '2023-03-31']\n",
            "\n",
            "April to June:\n",
            "['2023-04-01' '2023-04-02' '2023-04-03' '2023-04-04' '2023-04-05'\n",
            " '2023-04-06' '2023-04-07' '2023-04-08' '2023-04-09' '2023-04-10'\n",
            " '2023-04-11' '2023-04-12' '2023-04-13' '2023-04-14' '2023-04-15'\n",
            " '2023-04-16' '2023-04-17' '2023-04-18' '2023-04-19' '2023-04-20'\n",
            " '2023-04-21' '2023-04-22' '2023-04-23' '2023-04-24' '2023-04-25'\n",
            " '2023-04-26' '2023-04-27' '2023-04-28' '2023-04-29' '2023-04-30'\n",
            " '2023-05-01' '2023-05-02' '2023-05-03' '2023-05-04' '2023-05-05'\n",
            " '2023-05-06' '2023-05-07' '2023-05-08' '2023-05-09' '2023-05-10'\n",
            " '2023-05-11' '2023-05-12' '2023-05-13' '2023-05-14' '2023-05-15'\n",
            " '2023-05-16' '2023-05-17' '2023-05-18' '2023-05-19' '2023-05-20'\n",
            " '2023-05-21' '2023-05-22' '2023-05-23' '2023-05-24' '2023-05-25'\n",
            " '2023-05-26' '2023-05-27' '2023-05-28' '2023-05-29' '2023-05-30'\n",
            " '2023-05-31' '2023-06-01' '2023-06-02' '2023-06-03' '2023-06-04'\n",
            " '2023-06-05' '2023-06-06' '2023-06-07' '2023-06-08' '2023-06-09'\n",
            " '2023-06-10' '2023-06-11' '2023-06-12' '2023-06-13' '2023-06-14'\n",
            " '2023-06-15' '2023-06-16' '2023-06-17' '2023-06-18' '2023-06-19'\n",
            " '2023-06-20' '2023-06-21' '2023-06-22' '2023-06-23' '2023-06-24'\n",
            " '2023-06-25' '2023-06-26' '2023-06-27' '2023-06-28' '2023-06-29'\n",
            " '2023-06-30']\n",
            "\n",
            "July to September:\n",
            "['2023-07-01' '2023-07-02' '2023-07-03' '2023-07-04' '2023-07-05'\n",
            " '2023-07-06' '2023-07-07' '2023-07-08' '2023-07-09' '2023-07-10'\n",
            " '2023-07-11' '2023-07-12' '2023-07-13' '2023-07-14' '2023-07-15'\n",
            " '2023-07-16' '2023-07-17' '2023-07-18' '2023-07-19' '2023-07-20'\n",
            " '2023-07-21' '2023-07-22' '2023-07-23' '2023-07-24' '2023-07-25'\n",
            " '2023-07-26' '2023-07-27' '2023-07-28' '2023-07-29' '2023-07-30'\n",
            " '2023-07-31' '2023-08-01' '2023-08-02' '2023-08-03' '2023-08-04'\n",
            " '2023-08-05' '2023-08-06' '2023-08-07' '2023-08-08' '2023-08-09'\n",
            " '2023-08-10' '2023-08-11' '2023-08-12' '2023-08-13' '2023-08-14'\n",
            " '2023-08-15' '2023-08-16' '2023-08-17' '2023-08-18' '2023-08-19'\n",
            " '2023-08-20' '2023-08-21' '2023-08-22' '2023-08-23' '2023-08-24'\n",
            " '2023-08-25' '2023-08-26' '2023-08-27' '2023-08-28' '2023-08-29'\n",
            " '2023-08-30' '2023-08-31' '2023-09-01' '2023-09-02' '2023-09-03'\n",
            " '2023-09-04' '2023-09-05' '2023-09-06' '2023-09-07' '2023-09-08'\n",
            " '2023-09-09' '2023-09-10' '2023-09-11' '2023-09-12' '2023-09-13'\n",
            " '2023-09-14' '2023-09-15' '2023-09-16' '2023-09-17' '2023-09-18'\n",
            " '2023-09-19' '2023-09-20' '2023-09-21' '2023-09-22' '2023-09-23'\n",
            " '2023-09-24' '2023-09-25' '2023-09-26' '2023-09-27' '2023-09-28'\n",
            " '2023-09-29' '2023-09-30']\n",
            "\n",
            "October to December:\n",
            "['2023-10-01' '2023-10-02' '2023-10-03' '2023-10-04' '2023-10-05'\n",
            " '2023-10-06' '2023-10-07' '2023-10-08' '2023-10-09' '2023-10-10'\n",
            " '2023-10-11' '2023-10-12' '2023-10-13' '2023-10-14' '2023-10-15'\n",
            " '2023-10-16' '2023-10-17' '2023-10-18' '2023-10-19' '2023-10-20'\n",
            " '2023-10-21' '2023-10-22' '2023-10-23' '2023-10-24' '2023-10-25'\n",
            " '2023-10-26' '2023-10-27' '2023-10-28' '2023-10-29' '2023-10-30'\n",
            " '2023-10-31' '2023-11-01' '2023-11-02' '2023-11-03' '2023-11-04'\n",
            " '2023-11-05' '2023-11-06' '2023-11-07' '2023-11-08' '2023-11-09'\n",
            " '2023-11-10' '2023-11-11' '2023-11-12' '2023-11-13' '2023-11-14'\n",
            " '2023-11-15' '2023-11-16' '2023-11-17' '2023-11-18' '2023-11-19'\n",
            " '2023-11-20' '2023-11-21' '2023-11-22' '2023-11-23' '2023-11-24'\n",
            " '2023-11-25' '2023-11-26' '2023-11-27' '2023-11-28' '2023-11-29'\n",
            " '2023-11-30' '2023-12-01' '2023-12-02' '2023-12-03' '2023-12-04'\n",
            " '2023-12-05' '2023-12-06' '2023-12-07' '2023-12-08' '2023-12-09'\n",
            " '2023-12-10' '2023-12-11' '2023-12-12' '2023-12-13' '2023-12-14'\n",
            " '2023-12-15' '2023-12-16' '2023-12-17' '2023-12-18' '2023-12-19'\n",
            " '2023-12-20' '2023-12-21' '2023-12-22' '2023-12-23' '2023-12-24'\n",
            " '2023-12-25' '2023-12-26' '2023-12-27' '2023-12-28' '2023-12-29'\n",
            " '2023-12-30' '2023-12-31']\n"
          ]
        }
      ]
    },
    {
      "cell_type": "code",
      "source": [
        "# Generate a time series data for a specific period\n",
        "june_2023 = np.arange('2023-06-01', '2023-07-01', dtype='datetime64[D]')\n",
        "\n",
        "print(june_2023)"
      ],
      "metadata": {
        "colab": {
          "base_uri": "https://localhost:8080/"
        },
        "id": "xKboy1CMgrRA",
        "outputId": "bb5ae7c0-97e4-4d1a-85f2-2fe383b3c597"
      },
      "execution_count": 70,
      "outputs": [
        {
          "output_type": "stream",
          "name": "stdout",
          "text": [
            "['2023-06-01' '2023-06-02' '2023-06-03' '2023-06-04' '2023-06-05'\n",
            " '2023-06-06' '2023-06-07' '2023-06-08' '2023-06-09' '2023-06-10'\n",
            " '2023-06-11' '2023-06-12' '2023-06-13' '2023-06-14' '2023-06-15'\n",
            " '2023-06-16' '2023-06-17' '2023-06-18' '2023-06-19' '2023-06-20'\n",
            " '2023-06-21' '2023-06-22' '2023-06-23' '2023-06-24' '2023-06-25'\n",
            " '2023-06-26' '2023-06-27' '2023-06-28' '2023-06-29' '2023-06-30']\n"
          ]
        }
      ]
    },
    {
      "cell_type": "code",
      "source": [
        "# Demonstrate how to slice this data for different intervals\n",
        "decade_1 = june_2023[(june_2023 <= np.datetime64('2023-06-10'))]\n",
        "decade_2 = june_2023[(june_2023 >= np.datetime64('2023-06-11')) & (june_2023 <= np.datetime64('2023-06-20'))]\n",
        "decade_3 = june_2023[(june_2023 >= np.datetime64('2023-06-21'))]\n",
        "\n",
        "# Display the result\n",
        "print(\"First Decade:\")\n",
        "print(decade_1)\n",
        "\n",
        "print(\"\\nSecond Decade:\")\n",
        "print(decade_2)\n",
        "\n",
        "print(\"\\nThird Decade:\")\n",
        "print(decade_3)"
      ],
      "metadata": {
        "colab": {
          "base_uri": "https://localhost:8080/"
        },
        "id": "4VAkyu0IkODh",
        "outputId": "90262549-a783-476f-a535-1a691e97c027"
      },
      "execution_count": 72,
      "outputs": [
        {
          "output_type": "stream",
          "name": "stdout",
          "text": [
            "First Decade:\n",
            "['2023-06-01' '2023-06-02' '2023-06-03' '2023-06-04' '2023-06-05'\n",
            " '2023-06-06' '2023-06-07' '2023-06-08' '2023-06-09' '2023-06-10']\n",
            "\n",
            "Second Decade:\n",
            "['2023-06-11' '2023-06-12' '2023-06-13' '2023-06-14' '2023-06-15'\n",
            " '2023-06-16' '2023-06-17' '2023-06-18' '2023-06-19' '2023-06-20']\n",
            "\n",
            "Third Decade:\n",
            "['2023-06-21' '2023-06-22' '2023-06-23' '2023-06-24' '2023-06-25'\n",
            " '2023-06-26' '2023-06-27' '2023-06-28' '2023-06-29' '2023-06-30']\n"
          ]
        }
      ]
    },
    {
      "cell_type": "markdown",
      "source": [
        "🌟 Exercise 9 : Data Conversion\n",
        "\n",
        "Demonstrate how to convert a NumPy array to a Pandas DataFrame and vice versa."
      ],
      "metadata": {
        "id": "F_BlAGmFlzIZ"
      }
    },
    {
      "cell_type": "code",
      "source": [
        "numpy_array = np.array([\n",
        "    [1, 2, 3],\n",
        "    [4, 5, 6],\n",
        "    [7, 8, 9]\n",
        "])\n",
        "\n",
        "# Convert the NumPy array to a Pandas DataFrame\n",
        "pandas_df = pd.DataFrame(numpy_array, columns=['A', 'B', 'C'])\n",
        "\n",
        "print(pandas_df)"
      ],
      "metadata": {
        "colab": {
          "base_uri": "https://localhost:8080/"
        },
        "id": "Lfl4r8iblNCI",
        "outputId": "472f213c-f319-44b5-c1e6-9ce6a1728900"
      },
      "execution_count": 74,
      "outputs": [
        {
          "output_type": "stream",
          "name": "stdout",
          "text": [
            "   A  B  C\n",
            "0  1  2  3\n",
            "1  4  5  6\n",
            "2  7  8  9\n"
          ]
        }
      ]
    },
    {
      "cell_type": "code",
      "source": [
        "data = {'A': [1, 4, 7], 'B': [2, 5, 8], 'C': [3, 6, 9]}\n",
        "pandas_df = pd.DataFrame(data)\n",
        "\n",
        "# Convert the Pandas DataFrame to a NumPy array\n",
        "numpy_array = pandas_df.values\n",
        "\n",
        "print(numpy_array)"
      ],
      "metadata": {
        "colab": {
          "base_uri": "https://localhost:8080/"
        },
        "id": "wniLHlSKmTuL",
        "outputId": "ecd2f743-548b-4bd3-b35c-8525c3ff6e29"
      },
      "execution_count": 76,
      "outputs": [
        {
          "output_type": "stream",
          "name": "stdout",
          "text": [
            "[[1 2 3]\n",
            " [4 5 6]\n",
            " [7 8 9]]\n"
          ]
        }
      ]
    },
    {
      "cell_type": "markdown",
      "source": [
        "🌟 Exercise 10 : Basic Visualization\n",
        "\n",
        "Use Matplotlib to visualize a simple dataset created with NumPy (e.g., a line graph of random numbers)."
      ],
      "metadata": {
        "id": "Ekz35ITTmohv"
      }
    },
    {
      "cell_type": "code",
      "source": [
        "# Create a simple dataset with NumPy\n",
        "x_values = np.arange(0, 30, 1)\n",
        "y_values = np.random.randn(len(x_values))\n",
        "\n",
        "plt.plot(x_values, y_values)\n",
        "\n",
        "plt.show()"
      ],
      "metadata": {
        "colab": {
          "base_uri": "https://localhost:8080/",
          "height": 430
        },
        "id": "8qWztxlcmhGU",
        "outputId": "989f53bb-8b2d-468f-e1f2-74b656da1338"
      },
      "execution_count": 82,
      "outputs": [
        {
          "output_type": "display_data",
          "data": {
            "text/plain": [
              "<Figure size 640x480 with 1 Axes>"
            ],
            "image/png": "[encoded data removed]"
          },
          "metadata": {}
        }
      ]
    },
    {
      "cell_type": "code",
      "source": [],
      "metadata": {
        "id": "JG9AnmXTm2Wu"
      },
      "execution_count": null,
      "outputs": []
    }
  ]
}
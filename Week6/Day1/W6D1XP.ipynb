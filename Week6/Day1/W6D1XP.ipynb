{
  "nbformat": 4,
  "nbformat_minor": 0,
  "metadata": {
    "colab": {
      "provenance": []
    },
    "kernelspec": {
      "name": "python3",
      "display_name": "Python 3"
    },
    "language_info": {
      "name": "python"
    }
  },
  "cells": [
    {
      "cell_type": "code",
      "execution_count": 1,
      "metadata": {
        "id": "NqzUV3XTdoxv"
      },
      "outputs": [],
      "source": [
        "import numpy as np"
      ]
    },
    {
      "cell_type": "markdown",
      "source": [
        "🌟 Exercise 1 : Array Creation And Manipulation\n",
        "\n",
        "Create a 1D NumPy array containing numbers from 0 to 9."
      ],
      "metadata": {
        "id": "wLci_5bfduHR"
      }
    },
    {
      "cell_type": "code",
      "source": [
        "my_array = np.arange(10)\n",
        "\n",
        "print(my_array)"
      ],
      "metadata": {
        "colab": {
          "base_uri": "https://localhost:8080/"
        },
        "id": "l64XdUjgeN0C",
        "outputId": "573fc980-cd72-4844-afb5-5ffd4e8f696e"
      },
      "execution_count": 2,
      "outputs": [
        {
          "output_type": "stream",
          "name": "stdout",
          "text": [
            "[0 1 2 3 4 5 6 7 8 9]\n"
          ]
        }
      ]
    },
    {
      "cell_type": "markdown",
      "source": [
        "🌟 Exercise 2 : Type Conversion And Array Operations\n",
        "\n",
        "Convert a list [3.14, 2.17, 0, 1, 2] into a NumPy array and convert its data type to integer."
      ],
      "metadata": {
        "id": "TOgeu5VOecK3"
      }
    },
    {
      "cell_type": "code",
      "source": [
        "list = [3.14, 2.17, 0, 1, 2]\n",
        "\n",
        "my_array = np.array(list)\n",
        "my_array_int = my_array.astype(int)\n",
        "\n",
        "print(my_array_int)"
      ],
      "metadata": {
        "colab": {
          "base_uri": "https://localhost:8080/"
        },
        "id": "jK8KicNseYOx",
        "outputId": "f70d26bd-0452-4ec7-f243-6212fdfbd221"
      },
      "execution_count": 3,
      "outputs": [
        {
          "output_type": "stream",
          "name": "stdout",
          "text": [
            "[3 2 0 1 2]\n"
          ]
        }
      ]
    },
    {
      "cell_type": "markdown",
      "source": [
        "🌟 Exercise 3 : Working With Multi-Dimensional Arrays\n",
        "\n",
        "Create a 3x3 NumPy array with values ranging from 1 to 9."
      ],
      "metadata": {
        "id": "O4ThBbKUe9aI"
      }
    },
    {
      "cell_type": "code",
      "source": [
        "my_array = np.arange(1, 10)\n",
        "my_array = my_array.reshape(3, 3)\n",
        "\n",
        "print(my_array)"
      ],
      "metadata": {
        "colab": {
          "base_uri": "https://localhost:8080/"
        },
        "id": "4gshqCshetSz",
        "outputId": "53f92a2f-dbe6-4228-e4fe-9897ca731802"
      },
      "execution_count": 4,
      "outputs": [
        {
          "output_type": "stream",
          "name": "stdout",
          "text": [
            "[[1 2 3]\n",
            " [4 5 6]\n",
            " [7 8 9]]\n"
          ]
        }
      ]
    },
    {
      "cell_type": "markdown",
      "source": [
        "🌟 Exercise 4 : Creating Multi-Dimensional Array With Random Numbers\n",
        "\n",
        "Create a 2D NumPy array of shape (4, 5) filled with random numbers."
      ],
      "metadata": {
        "id": "yJvlEYOTn9Iy"
      }
    },
    {
      "cell_type": "code",
      "source": [
        "random_array = np.random.rand(4, 5)\n",
        "\n",
        "print(random_array)"
      ],
      "metadata": {
        "id": "KXIuKpnXfbJd",
        "colab": {
          "base_uri": "https://localhost:8080/"
        },
        "outputId": "985bde6a-8c15-4f67-ce18-8538dd2339a7"
      },
      "execution_count": 15,
      "outputs": [
        {
          "output_type": "stream",
          "name": "stdout",
          "text": [
            "[[0.9674313  0.35081585 0.47027929 0.55125888 0.71488713]\n",
            " [0.76545921 0.47118893 0.35878126 0.40143408 0.79560962]\n",
            " [0.51901523 0.44459342 0.55520645 0.71828792 0.88765591]\n",
            " [0.12082738 0.57473309 0.13096374 0.44712718 0.98044479]]\n"
          ]
        }
      ]
    },
    {
      "cell_type": "markdown",
      "source": [
        "🌟 Exercise 5 : Indexing Arrays\n",
        "\n",
        "Select the second row from a given 2D NumPy array."
      ],
      "metadata": {
        "id": "EZEViElpomuy"
      }
    },
    {
      "cell_type": "code",
      "source": [
        "given_array = np.array([[1, 2, 3, 4, 5],\n",
        "                     [6, 7, 8, 9, 10],\n",
        "                     [11, 12, 13, 14, 15],\n",
        "                     [16, 17, 18, 19, 20]])\n",
        "\n",
        "second_row = given_array[1, :]\n",
        "print(second_row)"
      ],
      "metadata": {
        "colab": {
          "base_uri": "https://localhost:8080/"
        },
        "id": "GZd7GFtHoGgh",
        "outputId": "9ce124ae-3b12-428e-e4bb-f021c6d44bd3"
      },
      "execution_count": 16,
      "outputs": [
        {
          "output_type": "stream",
          "name": "stdout",
          "text": [
            "[ 6  7  8  9 10]\n"
          ]
        }
      ]
    },
    {
      "cell_type": "markdown",
      "source": [
        "🌟 Exercise 6 : Reversing Elements\n",
        "\n",
        "Reverse the order of elements in a given 1D NumPy array (first element becomes last)."
      ],
      "metadata": {
        "id": "r4dCvDJtpaxO"
      }
    },
    {
      "cell_type": "code",
      "source": [
        "array = np.array([0, 1, 2, 3, 4, 5, 6, 7, 8, 9])\n",
        "\n",
        "reversed_array = array[::-1]\n",
        "print(reversed_array)"
      ],
      "metadata": {
        "colab": {
          "base_uri": "https://localhost:8080/"
        },
        "id": "ZMSfN8Zoo5pH",
        "outputId": "b5f8a9d7-186f-412c-dcf8-9129c826e92b"
      },
      "execution_count": 19,
      "outputs": [
        {
          "output_type": "stream",
          "name": "stdout",
          "text": [
            "[9 8 7 6 5 4 3 2 1 0]\n"
          ]
        }
      ]
    },
    {
      "cell_type": "markdown",
      "source": [
        "\n",
        "🌟 Exercise 7 : Identity Matrix\n",
        "\n",
        "Create a 4x4 identity matrix using NumPy."
      ],
      "metadata": {
        "id": "j07tNvn2p1yW"
      }
    },
    {
      "cell_type": "code",
      "source": [
        "identity_matrix = np.eye(4)\n",
        "\n",
        "print(identity_matrix)"
      ],
      "metadata": {
        "colab": {
          "base_uri": "https://localhost:8080/"
        },
        "id": "BFVMwzhbpq74",
        "outputId": "6c2a4c05-5cbb-441c-8c47-c324c54366a6"
      },
      "execution_count": 20,
      "outputs": [
        {
          "output_type": "stream",
          "name": "stdout",
          "text": [
            "[[1. 0. 0. 0.]\n",
            " [0. 1. 0. 0.]\n",
            " [0. 0. 1. 0.]\n",
            " [0. 0. 0. 1.]]\n"
          ]
        }
      ]
    },
    {
      "cell_type": "markdown",
      "source": [
        "\n",
        "🌟 Exercise 8 : Simple Aggregate Funcs\n",
        "\n",
        "Find the sum and average of a given 1D array."
      ],
      "metadata": {
        "id": "4tVbxmjmqdta"
      }
    },
    {
      "cell_type": "code",
      "source": [
        "array = np.array([0, 1, 2, 3, 4, 5, 6, 7, 8, 9])\n",
        "\n",
        "array_sum = np.sum(array)\n",
        "print(\"Sum:\", array_sum)\n",
        "\n",
        "array_average = np.mean(array)\n",
        "print(\"Average:\", array_average)"
      ],
      "metadata": {
        "colab": {
          "base_uri": "https://localhost:8080/"
        },
        "id": "Epwz7-a9qHUz",
        "outputId": "9c75575a-17b1-4527-a7d5-3cf70355af81"
      },
      "execution_count": 22,
      "outputs": [
        {
          "output_type": "stream",
          "name": "stdout",
          "text": [
            "Sum: 45\n",
            "Average: 4.5\n"
          ]
        }
      ]
    },
    {
      "cell_type": "markdown",
      "source": [
        "🌟 Exercise 9 : Create Array And Change Its Structure\n",
        "\n",
        "Create a NumPy array with elements from 1 to 20; then reshape it into a 4x5 matrix."
      ],
      "metadata": {
        "id": "ic108uePq9z3"
      }
    },
    {
      "cell_type": "code",
      "source": [
        "created_array = np.arange(1, 21)\n",
        "print(\"Original Array:\")\n",
        "print(created_array)\n",
        "\n",
        "reshaped_matrix = created_array.reshape(4, 5)\n",
        "print(\"Reshaped Matrix:\")\n",
        "print(reshaped_matrix)"
      ],
      "metadata": {
        "colab": {
          "base_uri": "https://localhost:8080/"
        },
        "id": "yC4CAw3qqxFi",
        "outputId": "5fb93e0d-9719-4bb4-e251-4a2349bbff31"
      },
      "execution_count": 24,
      "outputs": [
        {
          "output_type": "stream",
          "name": "stdout",
          "text": [
            "Original Array:\n",
            "[ 1  2  3  4  5  6  7  8  9 10 11 12 13 14 15 16 17 18 19 20]\n",
            "Reshaped Matrix:\n",
            "[[ 1  2  3  4  5]\n",
            " [ 6  7  8  9 10]\n",
            " [11 12 13 14 15]\n",
            " [16 17 18 19 20]]\n"
          ]
        }
      ]
    },
    {
      "cell_type": "markdown",
      "source": [
        "🌟 Exercise 10 : Conditional Selection Of Values\n",
        "\n",
        "Extract all odd numbers from a given NumPy array."
      ],
      "metadata": {
        "id": "eMS73Gl2rdcP"
      }
    },
    {
      "cell_type": "code",
      "source": [
        "given_array = np.array([1, 2, 3, 4, 5, 6, 7, 8, 9, 10])\n",
        "odd_numbers = given_array[given_array % 2 != 0]\n",
        "\n",
        "print(\"Odd Numbers:\", odd_numbers)"
      ],
      "metadata": {
        "colab": {
          "base_uri": "https://localhost:8080/"
        },
        "id": "BIY2BELmrWYy",
        "outputId": "43a922ca-6e30-43d0-c089-53e8248f6a46"
      },
      "execution_count": 25,
      "outputs": [
        {
          "output_type": "stream",
          "name": "stdout",
          "text": [
            "Odd Numbers: [1 3 5 7 9]\n"
          ]
        }
      ]
    },
    {
      "cell_type": "code",
      "source": [],
      "metadata": {
        "id": "4yTxg0iar1J8"
      },
      "execution_count": null,
      "outputs": []
    }
  ]
}
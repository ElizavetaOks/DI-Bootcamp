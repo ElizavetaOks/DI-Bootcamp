{
  "nbformat": 4,
  "nbformat_minor": 0,
  "metadata": {
    "colab": {
      "provenance": []
    },
    "kernelspec": {
      "name": "python3",
      "display_name": "Python 3"
    },
    "language_info": {
      "name": "python"
    }
  },
  "cells": [
    {
      "cell_type": "markdown",
      "source": [
        "**Data Loading:** Download the Iris dataset from this link and save it as a CSV file (e.g., iris.csv). Then, load this CSV dataset into a Pandas DataFrame."
      ],
      "metadata": {
        "id": "d4Ixhg1n8sYs"
      }
    },
    {
      "cell_type": "code",
      "source": [
        "import pandas as pd"
      ],
      "metadata": {
        "id": "Mi9pobGK-t9Q"
      },
      "execution_count": 3,
      "outputs": []
    },
    {
      "cell_type": "code",
      "source": [
        "!unzip archive.zip"
      ],
      "metadata": {
        "colab": {
          "base_uri": "https://localhost:8080/"
        },
        "id": "Z16XaY5i8z6t",
        "outputId": "3c9a1d2b-7df8-4f64-beaa-796c3d3738f3"
      },
      "execution_count": 1,
      "outputs": [
        {
          "output_type": "stream",
          "name": "stdout",
          "text": [
            "Archive:  archive.zip\n",
            "  inflating: IRIS.csv                \n"
          ]
        }
      ]
    },
    {
      "cell_type": "code",
      "source": [
        "db = pd.read_csv('IRIS.csv')"
      ],
      "metadata": {
        "id": "C9Htp6Re9QgJ"
      },
      "execution_count": 5,
      "outputs": []
    },
    {
      "cell_type": "markdown",
      "source": [
        "**Data Cleaning** - Handling Missing Values: Check for missing values in the dataset and decide how to handle them. You can either remove rows with missing values or impute them with appropriate values (e.g., using the mean or median). Document your approach and execute it."
      ],
      "metadata": {
        "id": "zRVb2RBd81re"
      }
    },
    {
      "cell_type": "code",
      "source": [
        "db.isnull().sum()"
      ],
      "metadata": {
        "colab": {
          "base_uri": "https://localhost:8080/"
        },
        "id": "LGuMlHBC82R_",
        "outputId": "d07b4bbc-c100-4047-fe1b-c3ef1813f684"
      },
      "execution_count": 9,
      "outputs": [
        {
          "output_type": "execute_result",
          "data": {
            "text/plain": [
              "sepal_length    0\n",
              "sepal_width     0\n",
              "petal_length    0\n",
              "petal_width     0\n",
              "species         0\n",
              "dtype: int64"
            ]
          },
          "metadata": {},
          "execution_count": 9
        }
      ]
    },
    {
      "cell_type": "markdown",
      "source": [
        "There is no missing values in the dataset."
      ],
      "metadata": {
        "id": "wnCljmOL_9rT"
      }
    },
    {
      "cell_type": "markdown",
      "source": [
        "\n",
        "**Data Cleaning - Renaming Columns**: Examine the column names in the dataset. If needed, rename the columns to make them more descriptive and meaningful. For example, you can rename columns like ‘sepal_length’ and ‘sepal_width’ for clarity.\n"
      ],
      "metadata": {
        "id": "o5sHo8YR-_Mv"
      }
    },
    {
      "cell_type": "code",
      "source": [
        "db.columns"
      ],
      "metadata": {
        "colab": {
          "base_uri": "https://localhost:8080/"
        },
        "id": "-0Yc-ZpXAeK3",
        "outputId": "e1237214-af27-4783-a7c9-cbf631897a96"
      },
      "execution_count": 11,
      "outputs": [
        {
          "output_type": "execute_result",
          "data": {
            "text/plain": [
              "Index(['sepal_length', 'sepal_width', 'petal_length', 'petal_width',\n",
              "       'species'],\n",
              "      dtype='object')"
            ]
          },
          "metadata": {},
          "execution_count": 11
        }
      ]
    },
    {
      "cell_type": "markdown",
      "source": [
        "\n",
        "**Export to Excel:** After cleaning the dataset, export it to a new Excel file (e.g., cleaned_iris.xlsx) using Pandas. Ensure that the exported file contains the cleaned data with updated column names.\n"
      ],
      "metadata": {
        "id": "vEhp2RLpAZ3c"
      }
    },
    {
      "cell_type": "code",
      "source": [],
      "metadata": {
        "id": "rdvvYvdWFQMm"
      },
      "execution_count": null,
      "outputs": []
    }
  ]
}
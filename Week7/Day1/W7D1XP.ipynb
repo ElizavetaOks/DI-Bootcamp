{
  "nbformat": 4,
  "nbformat_minor": 0,
  "metadata": {
    "colab": {
      "provenance": []
    },
    "kernelspec": {
      "name": "python3",
      "display_name": "Python 3"
    },
    "language_info": {
      "name": "python"
    }
  },
  "cells": [
    {
      "cell_type": "markdown",
      "source": [
        "# Exercises XP"
      ],
      "metadata": {
        "id": "R2wGc1-FBZaD"
      }
    },
    {
      "cell_type": "markdown",
      "source": [
        "##🌟 Exercise 1 : Parsing HTML With BeautifulSoup\n"
      ],
      "metadata": {
        "id": "YrzpyK7FBebR"
      }
    },
    {
      "cell_type": "code",
      "execution_count": 6,
      "metadata": {
        "id": "QqUjhXDCcY1t"
      },
      "outputs": [],
      "source": [
        "from bs4 import BeautifulSoup\n",
        "import requests"
      ]
    },
    {
      "cell_type": "code",
      "source": [
        "# Read the HTML content of the page\n",
        "html = '''<!DOCTYPE html>\n",
        "<html lang=\"en\">\n",
        "<head>\n",
        "    <meta charset=\"UTF-8\">\n",
        "    <meta name=\"viewport\" content=\"width=device-width, initial-scale=1.0\">\n",
        "    <title>Sports World</title>\n",
        "    <style>\n",
        "        body { font-family: Arial, sans-serif; }\n",
        "        header, nav, section, article, footer { margin: 20px; padding: 15px; }\n",
        "        nav { background-color: #333; }\n",
        "        nav a { color: white; padding: 14px 20px; text-decoration: none; display: inline-block; }\n",
        "        nav a:hover { background-color: #ddd; color: black; }\n",
        "        .video { text-align: center; margin: 20px 0; }\n",
        "    </style>\n",
        "</head>\n",
        "<body>\n",
        "\n",
        "    <header>\n",
        "        <h1>Welcome to Sports World</h1>\n",
        "        <p>Your one-stop destination for the latest sports news and videos.</p>\n",
        "    </header>\n",
        "\n",
        "    <nav>\n",
        "        <a href=\"#football\">Football</a>\n",
        "        <a href=\"#basketball\">Basketball</a>\n",
        "        <a href=\"#tennis\">Tennis</a>\n",
        "    </nav>\n",
        "\n",
        "    <section id=\"football\">\n",
        "        <h2>Football</h2>\n",
        "        <article>\n",
        "            <h3>Latest Football News</h3>\n",
        "            <p>Read about the latest football matches and player news.</p>\n",
        "            <div class=\"video\">\n",
        "                <iframe width=\"560\" height=\"315\" src=\"https://www.youtube.com/embed/football-video-id\" frameborder=\"0\" allowfullscreen>\n",
        "                </iframe>\n",
        "            </div>\n",
        "        </article>\n",
        "    </section>\n",
        "\n",
        "    <section id=\"basketball\">\n",
        "        <h2>Basketball</h2>\n",
        "        <article>\n",
        "            <h3>NBA Highlights</h3>\n",
        "            <p>Watch highlights from the latest NBA games.</p>\n",
        "            <div class=\"video\">\n",
        "                <iframe width=\"560\" height=\"315\" src=\"https://www.youtube.com/embed/basketball-video-id\" frameborder=\"0\" allowfullscreen>\n",
        "                </iframe>\n",
        "            </div>\n",
        "        </article>\n",
        "    </section>\n",
        "\n",
        "    <section id=\"tennis\">\n",
        "        <h2>Tennis</h2>\n",
        "        <article>\n",
        "            <h3>Grand Slam Updates</h3>\n",
        "            <p>Get the latest updates from the world of Grand Slam tennis.</p>\n",
        "            <div class=\"video\">\n",
        "                <iframe width=\"560\" height=\"315\" src=\"https://www.youtube.com/embed/tennis-video-id\" frameborder=\"0\" allowfullscreen></iframe>\n",
        "            </div>\n",
        "        </article>\n",
        "    </section>\n",
        "\n",
        "    <footer>\n",
        "        <form action=\"mailto:contact@sportsworld.com\" method=\"post\" enctype=\"text/plain\">\n",
        "            <label for=\"name\">Name:</label><br>\n",
        "            <input type=\"text\" id=\"name\" name=\"name\"><br>\n",
        "            <label for=\"email\">Email:</label><br>\n",
        "            <input type=\"email\" id=\"email\" name=\"email\"><br>\n",
        "            <label for=\"message\">Message:</label><br>\n",
        "            <textarea id=\"message\" name=\"message\" rows=\"4\" cols=\"50\"></textarea><br><br>\n",
        "            <input type=\"submit\" value=\"Send\">\n",
        "        </form>\n",
        "    </footer>\n",
        "\n",
        "</body>\n",
        "</html>'''"
      ],
      "metadata": {
        "id": "idFwm9fgBtRM"
      },
      "execution_count": 8,
      "outputs": []
    },
    {
      "cell_type": "code",
      "source": [
        "# Create a BeautifulSoup object to parse this HTML\n",
        "soup = BeautifulSoup(html, 'html.parser')"
      ],
      "metadata": {
        "id": "3evbyxanCWC_"
      },
      "execution_count": 11,
      "outputs": []
    },
    {
      "cell_type": "code",
      "source": [
        "# Find the title of the webpage\n",
        "title = soup.title.text\n",
        "print(f\"Website Title: {title}\")"
      ],
      "metadata": {
        "colab": {
          "base_uri": "https://localhost:8080/"
        },
        "id": "Q_PxFcUYcZql",
        "outputId": "e1f71cd6-8fcd-438a-ebbc-f346c9530bf6"
      },
      "execution_count": 12,
      "outputs": [
        {
          "output_type": "stream",
          "name": "stdout",
          "text": [
            "Website Title: Sports World\n"
          ]
        }
      ]
    },
    {
      "cell_type": "code",
      "source": [
        "# Extract all paragraphs (<p> tags) from the page\n",
        "paragraphs = soup.find_all('p')\n",
        "print(\"Paragraphs on the page:\")\n",
        "for paragraph in paragraphs:\n",
        "    print(paragraph.text)"
      ],
      "metadata": {
        "colab": {
          "base_uri": "https://localhost:8080/"
        },
        "id": "4ZNeA9ZedRdW",
        "outputId": "addb30f1-b573-40f4-ff79-57dbd80f2bfb"
      },
      "execution_count": 16,
      "outputs": [
        {
          "output_type": "stream",
          "name": "stdout",
          "text": [
            "Paragraphs on the page:\n",
            "Your one-stop destination for the latest sports news and videos.\n",
            "Read about the latest football matches and player news.\n",
            "Watch highlights from the latest NBA games.\n",
            "Get the latest updates from the world of Grand Slam tennis.\n"
          ]
        }
      ]
    },
    {
      "cell_type": "code",
      "source": [
        "# Retrieve all links (URLs in <a href=\"\"> tags) on the page\n",
        "links = soup.find_all('a', href=True)\n",
        "print(\"Links on the page:\")\n",
        "for link in links:\n",
        "    print(link['href'])"
      ],
      "metadata": {
        "colab": {
          "base_uri": "https://localhost:8080/"
        },
        "id": "n09WZvvYHJSN",
        "outputId": "260183ba-1139-4564-b759-68cfdb635c01"
      },
      "execution_count": 15,
      "outputs": [
        {
          "output_type": "stream",
          "name": "stdout",
          "text": [
            "Links on the page:\n",
            "#football\n",
            "#basketball\n",
            "#tennis\n"
          ]
        }
      ]
    },
    {
      "cell_type": "markdown",
      "source": [
        "##🌟 Exercise 2 : Scraping Robots.Txt From Wikipedia\n",
        "\n",
        "Write a Python program to download and display the content of robot.txt for en.wikipedia.org\n",
        "\n"
      ],
      "metadata": {
        "id": "qB05UXJfHeF6"
      }
    },
    {
      "cell_type": "code",
      "source": [
        "# URL\n",
        "url = \"https://en.wikipedia.org/robots.txt\"\n",
        "\n",
        "# Get request to fetch the content\n",
        "response = requests.get(url)\n",
        "\n",
        "print(response.text[:300])\n",
        "websoup = BeautifulSoup(response.text, 'html.parser')"
      ],
      "metadata": {
        "colab": {
          "base_uri": "https://localhost:8080/"
        },
        "id": "yZyW5CUyHTbE",
        "outputId": "0449662d-ae1f-4508-fd73-a52eb180b7da"
      },
      "execution_count": 28,
      "outputs": [
        {
          "output_type": "stream",
          "name": "stdout",
          "text": [
            "﻿# robots.txt for http://www.wikipedia.org/ and friends\n",
            "#\n",
            "# Please note: There are a lot of pages on this site, and there are\n",
            "# some misbehaved spiders out there that go _way_ too fast. If you're\n",
            "# irresponsible, your access to the site may be blocked.\n",
            "#\n",
            "\n",
            "# Observed spamming large amounts of https:/\n"
          ]
        }
      ]
    },
    {
      "cell_type": "markdown",
      "source": [
        "##🌟 Exercise 3 : Extracting Headers From Wikipedia’s Main Page\n",
        "\n",
        "Write a Python program to extract and display all the header tags from en.wikipedia.org/wiki/Main_Page."
      ],
      "metadata": {
        "id": "4B-jaUowJDlX"
      }
    },
    {
      "cell_type": "code",
      "source": [
        "# URL\n",
        "url = \"https://en.wikipedia.org/wiki/Main_Page\"\n",
        "\n",
        "# Get request to fetch the content\n",
        "response = requests.get(url)\n",
        "\n",
        "websoup = BeautifulSoup(response.text, 'html.parser')"
      ],
      "metadata": {
        "id": "ItiQho_4IHHp"
      },
      "execution_count": 31,
      "outputs": []
    },
    {
      "cell_type": "code",
      "source": [
        "# display all the header tags\n",
        "websoup.find_all(\"h1\")"
      ],
      "metadata": {
        "colab": {
          "base_uri": "https://localhost:8080/"
        },
        "id": "rb5brO3RJWeB",
        "outputId": "40edbcda-a6f8-4152-d589-d16b28212631"
      },
      "execution_count": 35,
      "outputs": [
        {
          "output_type": "execute_result",
          "data": {
            "text/plain": [
              "[<h1 class=\"firstHeading mw-first-heading\" id=\"firstHeading\" style=\"display: none\"><span class=\"mw-page-title-main\">Main Page</span></h1>,\n",
              " <h1><span class=\"mw-headline\" id=\"Welcome_to_Wikipedia\">Welcome to <a href=\"/wiki/Wikipedia\" title=\"Wikipedia\">Wikipedia</a></span></h1>]"
            ]
          },
          "metadata": {},
          "execution_count": 35
        }
      ]
    },
    {
      "cell_type": "markdown",
      "source": [
        "## 🌟 Exercise 4 : Checking For Page Title\n",
        "\n",
        "Write a Python program to check whether a page contains a title or not."
      ],
      "metadata": {
        "id": "Kvi1ZDmNLLhP"
      }
    },
    {
      "cell_type": "code",
      "source": [
        "def has_title(url):\n",
        "    # Get request to fetch the HTML content\n",
        "    response = requests.get(url)\n",
        "\n",
        "    # Check if the page contains a title tag\n",
        "    title_tag = soup.title\n",
        "    if title_tag is not None:\n",
        "      print(f\"The page has a title: {title_tag.text}\")\n",
        "    else:\n",
        "      print(\"The page does not contain a title.\")\n",
        "\n",
        "\n",
        "# URL of the webpage\n",
        "url = \"https://en.wikipedia.org/wiki/Main_Page\"\n",
        "\n",
        "has_title(url)"
      ],
      "metadata": {
        "colab": {
          "base_uri": "https://localhost:8080/"
        },
        "id": "RzbMptt0J9tW",
        "outputId": "06a19147-1c99-4d39-9264-9eaa6de55956"
      },
      "execution_count": 36,
      "outputs": [
        {
          "output_type": "stream",
          "name": "stdout",
          "text": [
            "The page has a title: Sports World\n"
          ]
        }
      ]
    },
    {
      "cell_type": "code",
      "source": [],
      "metadata": {
        "id": "FqlgpeQbMDC3"
      },
      "execution_count": null,
      "outputs": []
    }
  ]
}

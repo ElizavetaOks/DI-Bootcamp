{
  "nbformat": 4,
  "nbformat_minor": 0,
  "metadata": {
    "colab": {
      "provenance": []
    },
    "kernelspec": {
      "name": "python3",
      "display_name": "Python 3"
    },
    "language_info": {
      "name": "python"
    }
  },
  "cells": [
    {
      "cell_type": "markdown",
      "source": [
        "## Exercises XP"
      ],
      "metadata": {
        "id": "4iyIxLS54guH"
      }
    },
    {
      "cell_type": "markdown",
      "source": [
        "## 🌟 Exercise 1 : Defining The Problem And Data Collection For Loan Default Prediction\n"
      ],
      "metadata": {
        "id": "w-rCc6i5lMAu"
      }
    },
    {
      "cell_type": "markdown",
      "source": [
        "\n",
        "*Write a clear problem statement for predicting loan defaults.\n",
        "Identify and list the types of data you would need for this project (e.g., personal details of applicants, credit scores, loan amounts, repayment history).\n",
        "Discuss the sources where you can collect this data (e.g., financial institution’s internal records, credit bureaus).*"
      ],
      "metadata": {
        "id": "v03TwCR3lQcz"
      }
    },
    {
      "cell_type": "markdown",
      "source": [
        "* Problem Description:\n",
        "\n",
        "The primary objective is to create a robust predictive model that assesses the likelihood of loan default based on various factors related to loan applicants. By leveraging historical data and advanced machine learning techniques, the model aims to provide financial institutions with a reliable tool to make informed decisions during the loan approval process."
      ],
      "metadata": {
        "id": "P9tQDiZAmLe1"
      }
    },
    {
      "cell_type": "markdown",
      "source": [
        "* Types of Data Required:\n",
        "\n",
        "Personal Details of Applicants: Name, Age, Gender, Employment status, Monthly Income\n",
        "\n",
        "Credit Scores: FICO scores, Credit utilization ratio, Number of open credit lines, Credit history length\n",
        "\n",
        "Loan Details: Loan amount, Interest rate, Loan term, Purpose of the loan\n",
        "\n",
        "Repayment History: Previous loan performance, Timely payments, Number of missed payments, Late payment frequency\n",
        "\n",
        "Debt-to-Income Ratio:Total debt obligations, Monthly income"
      ],
      "metadata": {
        "id": "e6jjmbFTmO-l"
      }
    },
    {
      "cell_type": "markdown",
      "source": [
        "* Data Sources:\n",
        "\n",
        "Financial Institution’s Internal Records: Loan application forms, Customer profiles, Historical loan performance data\n",
        "\n",
        "Credit Bureaus: FICO scores, Credit reports, Credit utilization information\n",
        "\n",
        "Employment Verification Agencies: Employment status, Monthly income verification\n",
        "\n",
        "Previous Lenders and Banks: Repayment history, Default records"
      ],
      "metadata": {
        "id": "OTC6FFTqm8Ad"
      }
    },
    {
      "cell_type": "markdown",
      "source": [
        "##🌟 Exercise 2 : Feature Selection And Model Choice For Loan Default Prediction"
      ],
      "metadata": {
        "id": "II5mSaeVneT9"
      }
    },
    {
      "cell_type": "markdown",
      "source": [
        "*From a given dataset (assume columns like age, income, loan amount, repayment history, credit score, etc.), identify which features might be most relevant for predicting loan defaults.\n",
        "Justify your choice of features.*"
      ],
      "metadata": {
        "id": "up3FG1CNnjsE"
      }
    },
    {
      "cell_type": "markdown",
      "source": [
        "* Repayment History: Past behavior is a strong indicator of future actions. A comprehensive analysis of a borrower's repayment history, including the number of missed payments, late payments, and any defaults on previous loans, provides insights into their financial responsibility and ability to meet obligations.\n",
        "\n",
        "* Credit Score: Credit scores are widely used as a measure of an individual's creditworthiness. A lower credit score often indicates a higher risk of default. Lenders rely on credit scores to assess the applicant's financial health and reliability in repaying debts.\n",
        "\n",
        "* Debt-to-Income Ratio: The ratio of a borrower's total debt to their income provides an indication of their financial leverage. High debt relative to income may signal a greater likelihood of struggling to meet additional debt obligations, increasing the risk of default.\n",
        "\n",
        "* Loan Amount: The size of the loan relative to the borrower's income is crucial. Larger loan amounts may pose a higher risk, especially if the borrower's income is not proportionate. It's important to assess whether the borrower can comfortably manage the repayment of the loan based on their financial capacity.\n",
        "\n",
        "* Income: A borrower's income level is a key determinant of their ability to meet loan obligations. Higher income generally implies greater financial stability and the capacity to handle larger loans. Conversely, lower income may increase the risk of default, especially with substantial debt burdens.\n",
        "\n",
        "* Age: Age can be indicative of stability and financial maturity. Younger borrowers might have less financial experience and stability, potentially increasing the risk of default. On the other hand, older borrowers may have established financial histories and more predictable income streams.\n",
        "\n",
        "* Employment Status: Job stability and a consistent income source are essential for loan repayment. Employed individuals with a stable job history are generally considered lower risk compared to those with irregular employment or frequent job changes.\n",
        "\n",
        "* Purpose of the Loan: The reason for taking out a loan can provide insights into the borrower's financial decision-making. For example, loans for education or home improvement may be viewed differently than those for high-risk ventures, impacting the risk of default.\n"
      ],
      "metadata": {
        "id": "37FfpJ6co8IP"
      }
    },
    {
      "cell_type": "markdown",
      "source": [
        "##🌟 Exercise 3 : Training, Evaluating, And Optimizing The Model"
      ],
      "metadata": {
        "id": "iX6RwQvUp4rL"
      }
    },
    {
      "cell_type": "markdown",
      "source": [
        "*Outline the steps to evaluate the model’s performance, mentioning specific metrics (like accuracy, precision, recall) that would be relevant for this problem.*"
      ],
      "metadata": {
        "id": "OQ1EXB4cqAmm"
      }
    },
    {
      "cell_type": "markdown",
      "source": [
        "Steps to Evaluate the Model's Performance:\n",
        "\n",
        "* Confusion Matrix: Create a confusion matrix to evaluate the model's classification performance. The matrix includes True Positive (TP), True Negative (TN), False Positive (FP), and False Negative (FN) values.\n",
        "\n",
        "* Accuracy: Calculate accuracy, the ratio of correctly predicted instances (TP + TN) to the total number of instances.\n",
        "\n",
        "                Accuracy = (TP+TN)/(TP+TN+FP+FN)\n",
        "\n",
        "* Precision: Precision measures the accuracy of positive predictions, i.e., the ratio of true positive predictions to the total positive predictions.\n",
        "\n",
        "                Precision= TP/(TP+FP)\n",
        "\n",
        "* Recall (Sensitivity): Recall, or sensitivity, assesses the model's ability to capture all positive instances, i.e., the ratio of true positives to the total actual positives.\n",
        "\n",
        "                Recall= TP/(TP+FN)\n",
        "\n",
        "* F1 Score: The F1 score is the harmonic mean of precision and recall, providing a balanced measure between the two.\n",
        "\n",
        "          F1 Score = 2×Precision×Recall / (Precision+Recall)\n"
      ],
      "metadata": {
        "id": "C851OoucqLNl"
      }
    },
    {
      "cell_type": "markdown",
      "source": [
        "## 🌟 Exercise 4 : Designing Machine Learning Solutions For Specific Problems"
      ],
      "metadata": {
        "id": "F-84l7gLuO3s"
      }
    },
    {
      "cell_type": "markdown",
      "source": [
        "*For each of these scenario, decide which type of machine learning would be most suitable. Explain.*\n",
        "- Predicting Stock Prices : predict future prices\n",
        "- Organizing a Library of Books : group books into genres or categories based on similarities.\n",
        "- Program a robot to navigate and find the shortest path in a maze."
      ],
      "metadata": {
        "id": "cuEDLnhlpIdU"
      }
    },
    {
      "cell_type": "markdown",
      "source": [
        "**Predicting Stock Prices:**\n",
        "\n",
        "Suitable Machine Learning Type: Time Series Analysis with Regression\n",
        "\n",
        "Explanation:\n",
        "Time series analysis is appropriate for predicting stock prices as it takes into account the temporal dependencies in the data.\n",
        "Regression models can be employed to predict future stock prices based on historical price trends and relevant features."
      ],
      "metadata": {
        "id": "xZ3VsZnxy3Xo"
      }
    },
    {
      "cell_type": "markdown",
      "source": [
        "**Organizing a Library of Books:**\n",
        "\n",
        "Suitable Machine Learning Type: Unsupervised Learning\n",
        "\n",
        "Explanation:\n",
        "Unsupervised learning is appropriate because there are no predefined labels for the categories, and the algorithm needs to discover patterns and group books based on their inherent features.\n",
        "Features could include book content, genre, author, language, and other relevant metadata."
      ],
      "metadata": {
        "id": "4LoIpKEBzePg"
      }
    },
    {
      "cell_type": "markdown",
      "source": [
        "**Program a Robot to Navigate and Find the Shortest Path in a Maze:**\n",
        "\n",
        "Suitable Machine Learning Type: Reinforcement Learning\n",
        "\n",
        "Explanation:\n",
        "Reinforcement learning is well-suited for training a robot to navigate and find the shortest path in a maze.\n",
        "The robot can learn through trial and error by receiving rewards or penalties based on its actions.\n",
        "Reinforcement learning algorithms can be applied to teach the robot optimal strategies for maze navigation.\n",
        "The robot learns to take actions that maximize cumulative rewards, ultimately discovering the most efficient path through the maze."
      ],
      "metadata": {
        "id": "pp6YqdbE3THS"
      }
    },
    {
      "cell_type": "markdown",
      "source": [
        "## 🌟 Exercise 5 : Designing An Evaluation Strategy For Different ML Models"
      ],
      "metadata": {
        "id": "_qTopWWa3_ZF"
      }
    },
    {
      "cell_type": "markdown",
      "source": [
        "*Select three types of machine learning models: one from supervised learning (e.g., a classification model), one from unsupervised learning (e.g., a clustering model), and one from reinforcement learning.*\n"
      ],
      "metadata": {
        "id": "DyHx6fqs4Ea0"
      }
    },
    {
      "cell_type": "markdown",
      "source": [
        "* Supervised Learning Model: Random Forest Classifier\n",
        "\n",
        "* Unsupervised Learning Model: K-Means Clustering\n",
        "\n",
        "* Reinforcement Learning Model: Deep Q Network (DQN)"
      ],
      "metadata": {
        "id": "StFYZoCM4QpQ"
      }
    },
    {
      "cell_type": "markdown",
      "source": [
        "*For the supervised model, outline a strategy to evaluate its performance, including the choice of metrics (like accuracy, precision, recall, F1-score) and methods (like cross-validation, ROC curves).*"
      ],
      "metadata": {
        "id": "_JdYjve15ZGT"
      }
    },
    {
      "cell_type": "markdown",
      "source": [
        "Evaluation Strategy for Random Forest Classifier (Supervised Learning Model):\n",
        "\n",
        "1. Evaluation Metrics:\n",
        "\n",
        "Utilize the following metrics for a comprehensive evaluation:\n",
        "Accuracy: Measure the overall correctness of the model predictions.\n",
        "Precision: Assess the proportion of true positive predictions among all positive predictions.\n",
        "Recall: Evaluate the model's ability to capture all true positive instances.\n",
        "F1-Score: Consider the harmonic mean of precision and recall for a balanced metric.\n",
        "Confusion Matrix: Analyze true positive, true negative, false positive, and false negative counts.\n",
        "2. Cross-Validation:\n",
        "\n",
        "Implement k-fold cross-validation to assess the model's stability and generalization across different subsets of the dataset.\n",
        "3. ROC Curve and AUC-ROC:\n",
        "\n",
        "Plot the Receiver Operating Characteristic (ROC) curve and calculate the Area Under the ROC Curve (AUC-ROC) to visualize the trade-off between true positive rate and false positive rate.\n",
        "4. Interpretation:\n",
        "\n",
        "Interpret the results collectively, considering the specific goals and requirements of the problem. For instance, prioritize precision if false positives are costly, or focus on recall if missing positive instances is more critical.\n",
        "\n",
        "\n"
      ],
      "metadata": {
        "id": "I3BLY--r50IL"
      }
    },
    {
      "cell_type": "markdown",
      "source": [
        "*For the unsupervised model, describe how you would assess the effectiveness of the model, considering techniques like silhouette score, elbow method, or cluster validation metrics.*\n",
        "*For the reinforcement learning model, discuss how you would measure its success, considering aspects like cumulative reward, convergence, and exploration vs. exploitation balance.*\n",
        "*Address the challenges and limitations of evaluating models in each category.*\n"
      ],
      "metadata": {
        "id": "YVnoXnU14OvH"
      }
    },
    {
      "cell_type": "markdown",
      "source": [
        "* **Silhouette Score:**\n",
        "\n",
        "Calculate the silhouette score to measure the quality of the clusters. A higher silhouette score indicates better-defined clusters. The formula for the silhouette score is **(b-a)/max(b,a)**, where *a* is the average distance within a cluster, and *b* is the average distance to the nearest neighboring cluster.\n",
        "\n",
        "Challenges:\n",
        "\n",
        "Sensitivity to Shape: Silhouette score assumes clusters are convex and isotropic, making it less effective for irregularly shaped clusters.\n",
        "\n",
        "Optimal Score Ambiguity: The highest silhouette score does not guarantee the optimal number of clusters."
      ],
      "metadata": {
        "id": "cZTT2aWD6OCI"
      }
    },
    {
      "cell_type": "markdown",
      "source": [
        "* **Elbow Method:**\n",
        "\n",
        "Utilize the elbow method to identify the optimal number of clusters (k). Plot the within-cluster sum of squares against different values of k and identify the \"elbow\" point, where further partitioning provides diminishing returns.\n",
        "\n",
        "Challenges:\n",
        "\n",
        "Subjectivity in Interpretation: Identifying the \"elbow\" point can be subjective and may vary based on user interpretation.\n",
        "\n",
        "Non-linear Structures: The method may not work well for datasets with non-linear structures."
      ],
      "metadata": {
        "id": "snVDFVC76OQ7"
      }
    },
    {
      "cell_type": "markdown",
      "source": [
        "* **Cluster Validation Metrics:**\n",
        "\n",
        "Employ metrics like Adjusted Rand Index (ARI) or Normalized Mutual Information (NMI) to quantify the agreement between true labels (if available) and cluster assignments.\n",
        "\n",
        "Challenges:\n",
        "\n",
        "Label Dependence: Some metrics, like Adjusted Rand Index, require true labels for evaluation, limiting their application in real-world unsupervised scenarios.\n",
        "\n",
        "Sensitivity to Scale: Certain metrics can be sensitive to the scale of features, influencing their effectiveness."
      ],
      "metadata": {
        "id": "Ogslyaw67RbT"
      }
    },
    {
      "cell_type": "markdown",
      "source": [
        "* **Cumulative Reward:**\n",
        "\n",
        "Monitor the cumulative reward obtained by the agent during training and testing. A higher cumulative reward indicates better performance in achieving the desired objectives.\n",
        "\n",
        "Challenges:\n",
        "\n",
        "Sparse Rewards: In environments with sparse rewards, the cumulative reward may not effectively capture the agent's learning progress.\n",
        "\n",
        "Delayed Rewards: Cumulative reward might not reflect the agent's ability to make good decisions early in the learning process."
      ],
      "metadata": {
        "id": "Smi5clUg7uGb"
      }
    },
    {
      "cell_type": "markdown",
      "source": [
        "* **Convergence:**\n",
        "\n",
        "Track the training progress to ensure that the model converges. Assess convergence by observing whether the cumulative reward stabilizes or reaches a plateau over training episodes.\n",
        "\n",
        "Challenges:\n",
        "\n",
        "Misleading Plateaus: Convergence may not always imply an optimal policy, as the model could converge to a suboptimal solution.\n",
        "\n",
        "Sample Efficiency: Convergence might require a large number of training episodes, which can be computationally expensive."
      ],
      "metadata": {
        "id": "rp8l20Fl7zUu"
      }
    },
    {
      "cell_type": "markdown",
      "source": [
        "* **Exploration vs. Exploitation Balance:**\n",
        "\n",
        "Evaluate the balance between exploration and exploitation. Ensure that the agent explores the environment sufficiently to discover optimal strategies while exploiting known good policies to maximize cumulative rewards.\n",
        "\n",
        "Challenges:\n",
        "\n",
        "Finding the Right Balance: Achieving an optimal balance between exploration and exploitation is a complex task and may require fine-tuning of hyperparameters.\n",
        "\n",
        "Dynamic Environments: The balance may need adjustment when the environment dynamics change."
      ],
      "metadata": {
        "id": "2as_GE-o73BP"
      }
    },
    {
      "cell_type": "code",
      "source": [],
      "metadata": {
        "id": "cezYjtca4hj3"
      },
      "execution_count": null,
      "outputs": []
    }
  ]
}
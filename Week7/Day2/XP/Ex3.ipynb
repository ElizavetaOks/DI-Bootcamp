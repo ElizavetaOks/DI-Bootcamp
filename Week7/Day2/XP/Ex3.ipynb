{
 "cells": [
  {
   "cell_type": "code",
   "execution_count": null,
   "metadata": {},
   "outputs": [],
   "source": [
    "from selenium import webdriver\n",
    "from bs4 import BeautifulSoup\n",
    "import pandas as pd\n",
    "\n",
    "# Set up Selenium WebDriver (Chrome)\n",
    "driver = webdriver.Chrome()\n",
    "url = \"your_url_here\"\n",
    "driver.get(url)\n",
    "\n",
    "# Wait for the page to load (you may need to adjust the waiting time)\n",
    "driver.implicitly_wait(10)\n",
    "\n",
    "# Extract HTML content\n",
    "html_content = driver.page_source\n",
    "\n",
    "# Close the browser\n",
    "driver.quit()\n",
    "\n",
    "# Parse HTML content with BeautifulSoup\n",
    "soup = BeautifulSoup(html_content, 'html.parser')\n",
    "\n",
    "# Extract relevant data (modify this part based on the actual HTML structure)\n",
    "dates = [date.text for date in soup.select('your_date_selector')]\n",
    "values = [value.text for value in soup.select('your_value_selector')]\n",
    "\n",
    "# Organize the scraped data into a Pandas DataFrame\n",
    "df = pd.DataFrame({'Date': dates, 'Value': values})\n",
    "\n",
    "# Display the DataFrame\n",
    "print(df)\n"
   ]
  },
  {
   "cell_type": "code",
   "execution_count": null,
   "metadata": {},
   "outputs": [],
   "source": []
  }
 ],
 "metadata": {
  "language_info": {
   "name": "python"
  }
 },
 "nbformat": 4,
 "nbformat_minor": 2
}
